{
 "cells": [
  {
   "cell_type": "markdown",
   "metadata": {
    "slideshow": {
     "slide_type": "slide"
    }
   },
   "source": [
    "# Data Cleaning in Pandas\n",
    "\n",
    "![](https://media.giphy.com/media/AhAysobj49aqQ/giphy.gif)"
   ]
  },
  {
   "cell_type": "markdown",
   "metadata": {
    "slideshow": {
     "slide_type": "slide"
    }
   },
   "source": [
    "## Learning goals: To apply pandas data cleaning methods to animal shelter data.\n",
    "![austin](http://www.austintexas.gov/sites/default/files/aac_logo.jpg)\n",
    " "
   ]
  },
  {
   "cell_type": "markdown",
   "metadata": {
    "slideshow": {
     "slide_type": "slide"
    }
   },
   "source": [
    "### Agenda:\n",
    "- Understand why data cleaning is important\n",
    "- Review ways to read data into a pandas dataframe\n",
    "- Apply pandas methods to inspect our data\n",
    "- Clean our data using pandas methods"
   ]
  },
  {
   "cell_type": "markdown",
   "metadata": {},
   "source": [
    "### Why is data cleaning important and how does it fit into the data science process?\n",
    "\n",
    "Remember this CRISP-DM Model?\n",
    "\n",
    "<img src='https://storage.ning.com/topology/rest/1.0/file/get/2808314343?profile=RESIZE_480x480' width='500'>\n",
    "\n",
    "#### ACTIVITY\n",
    "\n",
    "With your group, read [this article](https://counting.substack.com/p/data-cleaning-is-analysis-not-grunt?utm_campaign=Data_Elixir&utm_source=Data_Elixir_303) (focus on the sections \"Data Cleaning IS Analysis\" through \"Cleaning your data allows you to know your data\" and disucuss:\n",
    "\n",
    "- Why is data cleaning important?\n",
    "- What questions should you be thinking about as your clean your data?\n",
    "- How can data cleaning help you in your analysis?"
   ]
  },
  {
   "cell_type": "markdown",
   "metadata": {},
   "source": [
    "### Get and inspect data"
   ]
  },
  {
   "cell_type": "code",
   "execution_count": 1,
   "metadata": {},
   "outputs": [],
   "source": [
    "import pandas as pd"
   ]
  },
  {
   "cell_type": "markdown",
   "metadata": {},
   "source": [
    "The data from the [Austin Animal Shelter](http://www.austintexas.gov/department/aac) is hosted in these locations:\n",
    "\n",
    "**Intakes**:\n",
    "https://data.austintexas.gov/Health-and-Community-Services/Austin-Animal-Center-Intakes/wter-evkm <br>\n",
    "**Outcomes**: https://data.austintexas.gov/Health-and-Community-Services/Austin-Animal-Center-Outcomes/9t4d-g238\n",
    "\n",
    "We will read it into our notebook using [pd.read_csv](https://pandas.pydata.org/pandas-docs/stable/reference/api/pandas.read_csv.html)"
   ]
  },
  {
   "cell_type": "code",
   "execution_count": 2,
   "metadata": {},
   "outputs": [],
   "source": [
    "outcomes = pd.read_csv('./data/Austin_Animal_Center_Outcomes.csv')"
   ]
  },
  {
   "cell_type": "markdown",
   "metadata": {
    "slideshow": {
     "slide_type": "slide"
    }
   },
   "source": [
    "Let's do the same for intakes!"
   ]
  },
  {
   "cell_type": "code",
   "execution_count": 3,
   "metadata": {},
   "outputs": [],
   "source": [
    "intakes = pd.read_csv('./data/Austin_Animal_Center_Intakes.csv')"
   ]
  },
  {
   "cell_type": "markdown",
   "metadata": {
    "slideshow": {
     "slide_type": "slide"
    }
   },
   "source": [
    "### Inspect data\n",
    "#### Check top and bottom of dataset\n",
    "\n",
    "We can use the `.head()` method to view the first few rows of our dataframe.  \n",
    "\n",
    "Note: by default the function returns the first 5 rows but you can view more or less by specifying the number of rows you want to view inside the () like this `.head(20)`."
   ]
  },
  {
   "cell_type": "code",
   "execution_count": 4,
   "metadata": {},
   "outputs": [
    {
     "data": {
      "text/html": [
       "<div>\n",
       "<style scoped>\n",
       "    .dataframe tbody tr th:only-of-type {\n",
       "        vertical-align: middle;\n",
       "    }\n",
       "\n",
       "    .dataframe tbody tr th {\n",
       "        vertical-align: top;\n",
       "    }\n",
       "\n",
       "    .dataframe thead th {\n",
       "        text-align: right;\n",
       "    }\n",
       "</style>\n",
       "<table border=\"1\" class=\"dataframe\">\n",
       "  <thead>\n",
       "    <tr style=\"text-align: right;\">\n",
       "      <th></th>\n",
       "      <th>Animal ID</th>\n",
       "      <th>Name</th>\n",
       "      <th>DateTime</th>\n",
       "      <th>MonthYear</th>\n",
       "      <th>Date of Birth</th>\n",
       "      <th>Outcome Type</th>\n",
       "      <th>Outcome Subtype</th>\n",
       "      <th>Animal Type</th>\n",
       "      <th>Sex upon Outcome</th>\n",
       "      <th>Age upon Outcome</th>\n",
       "      <th>Breed</th>\n",
       "      <th>Color</th>\n",
       "    </tr>\n",
       "  </thead>\n",
       "  <tbody>\n",
       "    <tr>\n",
       "      <th>0</th>\n",
       "      <td>A805157</td>\n",
       "      <td>NaN</td>\n",
       "      <td>09/26/2019 07:12:00 PM</td>\n",
       "      <td>09/26/2019 07:12:00 PM</td>\n",
       "      <td>09/23/2018</td>\n",
       "      <td>Transfer</td>\n",
       "      <td>Partner</td>\n",
       "      <td>Bird</td>\n",
       "      <td>Unknown</td>\n",
       "      <td>NaN</td>\n",
       "      <td>Chicken</td>\n",
       "      <td>Red</td>\n",
       "    </tr>\n",
       "    <tr>\n",
       "      <th>1</th>\n",
       "      <td>A805124</td>\n",
       "      <td>NaN</td>\n",
       "      <td>09/26/2019 07:12:00 PM</td>\n",
       "      <td>09/26/2019 07:12:00 PM</td>\n",
       "      <td>09/22/2018</td>\n",
       "      <td>Transfer</td>\n",
       "      <td>Partner</td>\n",
       "      <td>Bird</td>\n",
       "      <td>Intact Male</td>\n",
       "      <td>NaN</td>\n",
       "      <td>Orpington</td>\n",
       "      <td>Cream</td>\n",
       "    </tr>\n",
       "    <tr>\n",
       "      <th>2</th>\n",
       "      <td>A805126</td>\n",
       "      <td>*Mambo</td>\n",
       "      <td>09/26/2019 07:11:00 PM</td>\n",
       "      <td>09/26/2019 07:11:00 PM</td>\n",
       "      <td>08/10/2019</td>\n",
       "      <td>NaN</td>\n",
       "      <td>NaN</td>\n",
       "      <td>Dog</td>\n",
       "      <td>Intact Male</td>\n",
       "      <td>NaN</td>\n",
       "      <td>German Shepherd Mix</td>\n",
       "      <td>Tan/Black</td>\n",
       "    </tr>\n",
       "    <tr>\n",
       "      <th>3</th>\n",
       "      <td>A801848</td>\n",
       "      <td>*Kit</td>\n",
       "      <td>09/26/2019 07:07:00 PM</td>\n",
       "      <td>09/26/2019 07:07:00 PM</td>\n",
       "      <td>07/10/2019</td>\n",
       "      <td>Adoption</td>\n",
       "      <td>NaN</td>\n",
       "      <td>Cat</td>\n",
       "      <td>Spayed Female</td>\n",
       "      <td>2 months</td>\n",
       "      <td>Domestic Shorthair</td>\n",
       "      <td>Orange Tabby</td>\n",
       "    </tr>\n",
       "    <tr>\n",
       "      <th>4</th>\n",
       "      <td>A805251</td>\n",
       "      <td>Cash</td>\n",
       "      <td>09/26/2019 06:50:00 PM</td>\n",
       "      <td>09/26/2019 06:50:00 PM</td>\n",
       "      <td>09/24/2018</td>\n",
       "      <td>Return to Owner</td>\n",
       "      <td>NaN</td>\n",
       "      <td>Dog</td>\n",
       "      <td>Intact Male</td>\n",
       "      <td>1 year</td>\n",
       "      <td>Australian Shepherd</td>\n",
       "      <td>Blue Merle/White</td>\n",
       "    </tr>\n",
       "  </tbody>\n",
       "</table>\n",
       "</div>"
      ],
      "text/plain": [
       "  Animal ID    Name                DateTime               MonthYear  \\\n",
       "0   A805157     NaN  09/26/2019 07:12:00 PM  09/26/2019 07:12:00 PM   \n",
       "1   A805124     NaN  09/26/2019 07:12:00 PM  09/26/2019 07:12:00 PM   \n",
       "2   A805126  *Mambo  09/26/2019 07:11:00 PM  09/26/2019 07:11:00 PM   \n",
       "3   A801848    *Kit  09/26/2019 07:07:00 PM  09/26/2019 07:07:00 PM   \n",
       "4   A805251    Cash  09/26/2019 06:50:00 PM  09/26/2019 06:50:00 PM   \n",
       "\n",
       "  Date of Birth     Outcome Type Outcome Subtype Animal Type Sex upon Outcome  \\\n",
       "0    09/23/2018         Transfer         Partner        Bird          Unknown   \n",
       "1    09/22/2018         Transfer         Partner        Bird      Intact Male   \n",
       "2    08/10/2019              NaN             NaN         Dog      Intact Male   \n",
       "3    07/10/2019         Adoption             NaN         Cat    Spayed Female   \n",
       "4    09/24/2018  Return to Owner             NaN         Dog      Intact Male   \n",
       "\n",
       "  Age upon Outcome                Breed             Color  \n",
       "0              NaN              Chicken               Red  \n",
       "1              NaN            Orpington             Cream  \n",
       "2              NaN  German Shepherd Mix         Tan/Black  \n",
       "3         2 months   Domestic Shorthair      Orange Tabby  \n",
       "4           1 year  Australian Shepherd  Blue Merle/White  "
      ]
     },
     "execution_count": 4,
     "metadata": {},
     "output_type": "execute_result"
    }
   ],
   "source": [
    "outcomes.head()"
   ]
  },
  {
   "cell_type": "markdown",
   "metadata": {},
   "source": [
    "Similarly we can view the bottom of our dataframe by using the `.tail()` method."
   ]
  },
  {
   "cell_type": "code",
   "execution_count": 5,
   "metadata": {},
   "outputs": [
    {
     "data": {
      "text/html": [
       "<div>\n",
       "<style scoped>\n",
       "    .dataframe tbody tr th:only-of-type {\n",
       "        vertical-align: middle;\n",
       "    }\n",
       "\n",
       "    .dataframe tbody tr th {\n",
       "        vertical-align: top;\n",
       "    }\n",
       "\n",
       "    .dataframe thead th {\n",
       "        text-align: right;\n",
       "    }\n",
       "</style>\n",
       "<table border=\"1\" class=\"dataframe\">\n",
       "  <thead>\n",
       "    <tr style=\"text-align: right;\">\n",
       "      <th></th>\n",
       "      <th>Animal ID</th>\n",
       "      <th>Name</th>\n",
       "      <th>DateTime</th>\n",
       "      <th>MonthYear</th>\n",
       "      <th>Date of Birth</th>\n",
       "      <th>Outcome Type</th>\n",
       "      <th>Outcome Subtype</th>\n",
       "      <th>Animal Type</th>\n",
       "      <th>Sex upon Outcome</th>\n",
       "      <th>Age upon Outcome</th>\n",
       "      <th>Breed</th>\n",
       "      <th>Color</th>\n",
       "    </tr>\n",
       "  </thead>\n",
       "  <tbody>\n",
       "    <tr>\n",
       "      <th>108509</th>\n",
       "      <td>A656894</td>\n",
       "      <td>Jake</td>\n",
       "      <td>10/01/2013 11:53:00 AM</td>\n",
       "      <td>10/01/2013 11:53:00 AM</td>\n",
       "      <td>04/22/2013</td>\n",
       "      <td>Adoption</td>\n",
       "      <td>NaN</td>\n",
       "      <td>Cat</td>\n",
       "      <td>Neutered Male</td>\n",
       "      <td>5 months</td>\n",
       "      <td>Domestic Shorthair Mix</td>\n",
       "      <td>Black</td>\n",
       "    </tr>\n",
       "    <tr>\n",
       "      <th>108510</th>\n",
       "      <td>A663833</td>\n",
       "      <td>Baby Girl</td>\n",
       "      <td>10/01/2013 11:50:00 AM</td>\n",
       "      <td>10/01/2013 11:50:00 AM</td>\n",
       "      <td>09/24/2004</td>\n",
       "      <td>Return to Owner</td>\n",
       "      <td>NaN</td>\n",
       "      <td>Dog</td>\n",
       "      <td>Spayed Female</td>\n",
       "      <td>9 years</td>\n",
       "      <td>Labrador Retriever Mix</td>\n",
       "      <td>Black</td>\n",
       "    </tr>\n",
       "    <tr>\n",
       "      <th>108511</th>\n",
       "      <td>A663572</td>\n",
       "      <td>*Starla</td>\n",
       "      <td>10/01/2013 11:42:00 AM</td>\n",
       "      <td>10/01/2013 11:42:00 AM</td>\n",
       "      <td>09/21/2010</td>\n",
       "      <td>Adoption</td>\n",
       "      <td>NaN</td>\n",
       "      <td>Dog</td>\n",
       "      <td>Spayed Female</td>\n",
       "      <td>3 years</td>\n",
       "      <td>Anatol Shepherd Mix</td>\n",
       "      <td>White/Brown</td>\n",
       "    </tr>\n",
       "    <tr>\n",
       "      <th>108512</th>\n",
       "      <td>A663888</td>\n",
       "      <td>NaN</td>\n",
       "      <td>10/01/2013 11:13:00 AM</td>\n",
       "      <td>10/01/2013 11:13:00 AM</td>\n",
       "      <td>09/25/2011</td>\n",
       "      <td>Transfer</td>\n",
       "      <td>Partner</td>\n",
       "      <td>Dog</td>\n",
       "      <td>Spayed Female</td>\n",
       "      <td>2 years</td>\n",
       "      <td>Boxer Mix</td>\n",
       "      <td>Red/White</td>\n",
       "    </tr>\n",
       "    <tr>\n",
       "      <th>108513</th>\n",
       "      <td>A663646</td>\n",
       "      <td>NaN</td>\n",
       "      <td>10/01/2013 11:12:00 AM</td>\n",
       "      <td>10/01/2013 11:12:00 AM</td>\n",
       "      <td>09/22/2010</td>\n",
       "      <td>Transfer</td>\n",
       "      <td>Partner</td>\n",
       "      <td>Dog</td>\n",
       "      <td>Neutered Male</td>\n",
       "      <td>3 years</td>\n",
       "      <td>Toy Poodle Mix</td>\n",
       "      <td>White</td>\n",
       "    </tr>\n",
       "    <tr>\n",
       "      <th>108514</th>\n",
       "      <td>A664223</td>\n",
       "      <td>Moby</td>\n",
       "      <td>10/01/2013 11:03:00 AM</td>\n",
       "      <td>10/01/2013 11:03:00 AM</td>\n",
       "      <td>09/30/2009</td>\n",
       "      <td>Return to Owner</td>\n",
       "      <td>NaN</td>\n",
       "      <td>Dog</td>\n",
       "      <td>Neutered Male</td>\n",
       "      <td>4 years</td>\n",
       "      <td>Bulldog Mix</td>\n",
       "      <td>White</td>\n",
       "    </tr>\n",
       "    <tr>\n",
       "      <th>108515</th>\n",
       "      <td>A664236</td>\n",
       "      <td>NaN</td>\n",
       "      <td>10/01/2013 10:44:00 AM</td>\n",
       "      <td>10/01/2013 10:44:00 AM</td>\n",
       "      <td>09/24/2013</td>\n",
       "      <td>Transfer</td>\n",
       "      <td>Partner</td>\n",
       "      <td>Cat</td>\n",
       "      <td>Unknown</td>\n",
       "      <td>1 week</td>\n",
       "      <td>Domestic Shorthair Mix</td>\n",
       "      <td>Orange/White</td>\n",
       "    </tr>\n",
       "    <tr>\n",
       "      <th>108516</th>\n",
       "      <td>A664237</td>\n",
       "      <td>NaN</td>\n",
       "      <td>10/01/2013 10:44:00 AM</td>\n",
       "      <td>10/01/2013 10:44:00 AM</td>\n",
       "      <td>09/24/2013</td>\n",
       "      <td>Transfer</td>\n",
       "      <td>Partner</td>\n",
       "      <td>Cat</td>\n",
       "      <td>Unknown</td>\n",
       "      <td>1 week</td>\n",
       "      <td>Domestic Shorthair Mix</td>\n",
       "      <td>Orange/White</td>\n",
       "    </tr>\n",
       "    <tr>\n",
       "      <th>108517</th>\n",
       "      <td>A664235</td>\n",
       "      <td>NaN</td>\n",
       "      <td>10/01/2013 10:39:00 AM</td>\n",
       "      <td>10/01/2013 10:39:00 AM</td>\n",
       "      <td>09/24/2013</td>\n",
       "      <td>Transfer</td>\n",
       "      <td>Partner</td>\n",
       "      <td>Cat</td>\n",
       "      <td>Unknown</td>\n",
       "      <td>1 week</td>\n",
       "      <td>Domestic Shorthair Mix</td>\n",
       "      <td>Orange/White</td>\n",
       "    </tr>\n",
       "    <tr>\n",
       "      <th>108518</th>\n",
       "      <td>A659834</td>\n",
       "      <td>*Dudley</td>\n",
       "      <td>10/01/2013 09:31:00 AM</td>\n",
       "      <td>10/01/2013 09:31:00 AM</td>\n",
       "      <td>07/23/2013</td>\n",
       "      <td>Adoption</td>\n",
       "      <td>Foster</td>\n",
       "      <td>Dog</td>\n",
       "      <td>Neutered Male</td>\n",
       "      <td>2 months</td>\n",
       "      <td>Labrador Retriever Mix</td>\n",
       "      <td>Black</td>\n",
       "    </tr>\n",
       "  </tbody>\n",
       "</table>\n",
       "</div>"
      ],
      "text/plain": [
       "       Animal ID       Name                DateTime               MonthYear  \\\n",
       "108509   A656894       Jake  10/01/2013 11:53:00 AM  10/01/2013 11:53:00 AM   \n",
       "108510   A663833  Baby Girl  10/01/2013 11:50:00 AM  10/01/2013 11:50:00 AM   \n",
       "108511   A663572    *Starla  10/01/2013 11:42:00 AM  10/01/2013 11:42:00 AM   \n",
       "108512   A663888        NaN  10/01/2013 11:13:00 AM  10/01/2013 11:13:00 AM   \n",
       "108513   A663646        NaN  10/01/2013 11:12:00 AM  10/01/2013 11:12:00 AM   \n",
       "108514   A664223       Moby  10/01/2013 11:03:00 AM  10/01/2013 11:03:00 AM   \n",
       "108515   A664236        NaN  10/01/2013 10:44:00 AM  10/01/2013 10:44:00 AM   \n",
       "108516   A664237        NaN  10/01/2013 10:44:00 AM  10/01/2013 10:44:00 AM   \n",
       "108517   A664235        NaN  10/01/2013 10:39:00 AM  10/01/2013 10:39:00 AM   \n",
       "108518   A659834    *Dudley  10/01/2013 09:31:00 AM  10/01/2013 09:31:00 AM   \n",
       "\n",
       "       Date of Birth     Outcome Type Outcome Subtype Animal Type  \\\n",
       "108509    04/22/2013         Adoption             NaN         Cat   \n",
       "108510    09/24/2004  Return to Owner             NaN         Dog   \n",
       "108511    09/21/2010         Adoption             NaN         Dog   \n",
       "108512    09/25/2011         Transfer         Partner         Dog   \n",
       "108513    09/22/2010         Transfer         Partner         Dog   \n",
       "108514    09/30/2009  Return to Owner             NaN         Dog   \n",
       "108515    09/24/2013         Transfer         Partner         Cat   \n",
       "108516    09/24/2013         Transfer         Partner         Cat   \n",
       "108517    09/24/2013         Transfer         Partner         Cat   \n",
       "108518    07/23/2013         Adoption          Foster         Dog   \n",
       "\n",
       "       Sex upon Outcome Age upon Outcome                   Breed         Color  \n",
       "108509    Neutered Male         5 months  Domestic Shorthair Mix         Black  \n",
       "108510    Spayed Female          9 years  Labrador Retriever Mix         Black  \n",
       "108511    Spayed Female          3 years     Anatol Shepherd Mix   White/Brown  \n",
       "108512    Spayed Female          2 years               Boxer Mix     Red/White  \n",
       "108513    Neutered Male          3 years          Toy Poodle Mix         White  \n",
       "108514    Neutered Male          4 years             Bulldog Mix         White  \n",
       "108515          Unknown           1 week  Domestic Shorthair Mix  Orange/White  \n",
       "108516          Unknown           1 week  Domestic Shorthair Mix  Orange/White  \n",
       "108517          Unknown           1 week  Domestic Shorthair Mix  Orange/White  \n",
       "108518    Neutered Male         2 months  Labrador Retriever Mix         Black  "
      ]
     },
     "execution_count": 5,
     "metadata": {},
     "output_type": "execute_result"
    }
   ],
   "source": [
    "outcomes.tail(10)"
   ]
  },
  {
   "cell_type": "code",
   "execution_count": 6,
   "metadata": {},
   "outputs": [
    {
     "data": {
      "text/plain": [
       "pandas.core.frame.DataFrame"
      ]
     },
     "execution_count": 6,
     "metadata": {},
     "output_type": "execute_result"
    }
   ],
   "source": [
    "type(outcomes)"
   ]
  },
  {
   "cell_type": "markdown",
   "metadata": {},
   "source": [
    "It's important that we know it's a `DataFrame` because now, given the [documentation](https://pandas.pydata.org/pandas-docs/stable/reference/api/pandas.DataFrame.html), we can always expect answers on any dataset we load in. "
   ]
  },
  {
   "cell_type": "markdown",
   "metadata": {
    "slideshow": {
     "slide_type": "slide"
    }
   },
   "source": [
    "#### What's the length and width of our dataframe?"
   ]
  },
  {
   "cell_type": "code",
   "execution_count": 7,
   "metadata": {},
   "outputs": [
    {
     "data": {
      "text/plain": [
       "(108519, 12)"
      ]
     },
     "execution_count": 7,
     "metadata": {},
     "output_type": "execute_result"
    }
   ],
   "source": [
    "outcomes.shape"
   ]
  },
  {
   "cell_type": "markdown",
   "metadata": {},
   "source": [
    "The `.shape` attribute tells us how many rows and columns in our dataframe. Our outcomes dataset has 108,519 rows and 12 columns of data."
   ]
  },
  {
   "cell_type": "markdown",
   "metadata": {},
   "source": [
    "#### Question:  What does a row of data represent in this dataset?  What are some things we should consider when we are performing analysis on this dataset?"
   ]
  },
  {
   "cell_type": "markdown",
   "metadata": {
    "slideshow": {
     "slide_type": "slide"
    }
   },
   "source": [
    "#### Get column names\n",
    "\n",
    "We might also want to examine just the names of each column in our dataframe.  We can do this by using the `.columns` attribute."
   ]
  },
  {
   "cell_type": "code",
   "execution_count": 8,
   "metadata": {},
   "outputs": [
    {
     "data": {
      "text/plain": [
       "Index(['Animal ID', 'Name', 'DateTime', 'MonthYear', 'Date of Birth',\n",
       "       'Outcome Type', 'Outcome Subtype', 'Animal Type', 'Sex upon Outcome',\n",
       "       'Age upon Outcome', 'Breed', 'Color'],\n",
       "      dtype='object')"
      ]
     },
     "execution_count": 8,
     "metadata": {},
     "output_type": "execute_result"
    }
   ],
   "source": [
    "outcomes.columns"
   ]
  },
  {
   "cell_type": "markdown",
   "metadata": {
    "slideshow": {
     "slide_type": "slide"
    }
   },
   "source": [
    "**Columns** in a dataframe on an individual level are `Series` objects <br>\n",
    "To access an individual column, the easiest way to to use `.` notation:<br>\n",
    "`outcomes.Name`"
   ]
  },
  {
   "cell_type": "code",
   "execution_count": 9,
   "metadata": {},
   "outputs": [
    {
     "data": {
      "text/plain": [
       "0             NaN\n",
       "1             NaN\n",
       "2          *Mambo\n",
       "3            *Kit\n",
       "4            Cash\n",
       "           ...   \n",
       "108514       Moby\n",
       "108515        NaN\n",
       "108516        NaN\n",
       "108517        NaN\n",
       "108518    *Dudley\n",
       "Name: Name, Length: 108519, dtype: object"
      ]
     },
     "execution_count": 9,
     "metadata": {},
     "output_type": "execute_result"
    }
   ],
   "source": [
    "outcomes.Name"
   ]
  },
  {
   "cell_type": "markdown",
   "metadata": {},
   "source": [
    "If your column name has spaces in it the `.` notation will not work but you can use `[]` to access those columns."
   ]
  },
  {
   "cell_type": "code",
   "execution_count": 10,
   "metadata": {},
   "outputs": [
    {
     "data": {
      "text/plain": [
       "0                Transfer\n",
       "1                Transfer\n",
       "2                     NaN\n",
       "3                Adoption\n",
       "4         Return to Owner\n",
       "               ...       \n",
       "108514    Return to Owner\n",
       "108515           Transfer\n",
       "108516           Transfer\n",
       "108517           Transfer\n",
       "108518           Adoption\n",
       "Name: Outcome Type, Length: 108519, dtype: object"
      ]
     },
     "execution_count": 10,
     "metadata": {},
     "output_type": "execute_result"
    }
   ],
   "source": [
    "outcomes['Outcome Type']"
   ]
  },
  {
   "cell_type": "markdown",
   "metadata": {
    "slideshow": {
     "slide_type": "slide"
    }
   },
   "source": [
    "#### Check data type of each column\n",
    "Type of the data (integer, float, Python object, etc.)"
   ]
  },
  {
   "cell_type": "code",
   "execution_count": 11,
   "metadata": {},
   "outputs": [
    {
     "data": {
      "text/plain": [
       "Animal ID           object\n",
       "Name                object\n",
       "DateTime            object\n",
       "MonthYear           object\n",
       "Date of Birth       object\n",
       "Outcome Type        object\n",
       "Outcome Subtype     object\n",
       "Animal Type         object\n",
       "Sex upon Outcome    object\n",
       "Age upon Outcome    object\n",
       "Breed               object\n",
       "Color               object\n",
       "dtype: object"
      ]
     },
     "execution_count": 11,
     "metadata": {},
     "output_type": "execute_result"
    }
   ],
   "source": [
    "outcomes.dtypes"
   ]
  },
  {
   "cell_type": "markdown",
   "metadata": {
    "slideshow": {
     "slide_type": "slide"
    }
   },
   "source": [
    "#### Get data type *and* an idea of how many missing values\n",
    "Which columns have missing data?"
   ]
  },
  {
   "cell_type": "code",
   "execution_count": 12,
   "metadata": {},
   "outputs": [
    {
     "name": "stdout",
     "output_type": "stream",
     "text": [
      "<class 'pandas.core.frame.DataFrame'>\n",
      "RangeIndex: 108519 entries, 0 to 108518\n",
      "Data columns (total 12 columns):\n",
      " #   Column            Non-Null Count   Dtype \n",
      "---  ------            --------------   ----- \n",
      " 0   Animal ID         108519 non-null  object\n",
      " 1   Name              74323 non-null   object\n",
      " 2   DateTime          108519 non-null  object\n",
      " 3   MonthYear         108519 non-null  object\n",
      " 4   Date of Birth     108519 non-null  object\n",
      " 5   Outcome Type      108510 non-null  object\n",
      " 6   Outcome Subtype   49461 non-null   object\n",
      " 7   Animal Type       108519 non-null  object\n",
      " 8   Sex upon Outcome  108516 non-null  object\n",
      " 9   Age upon Outcome  108492 non-null  object\n",
      " 10  Breed             108519 non-null  object\n",
      " 11  Color             108519 non-null  object\n",
      "dtypes: object(12)\n",
      "memory usage: 9.9+ MB\n"
     ]
    }
   ],
   "source": [
    "outcomes.info()"
   ]
  },
  {
   "cell_type": "markdown",
   "metadata": {},
   "source": [
    "As an alternative we can look at the sum of all missing values by chaining the `.isna()` function which is a boolean with the `.sum()` function."
   ]
  },
  {
   "cell_type": "code",
   "execution_count": 13,
   "metadata": {},
   "outputs": [
    {
     "data": {
      "text/plain": [
       "Animal ID               0\n",
       "Name                34196\n",
       "DateTime                0\n",
       "MonthYear               0\n",
       "Date of Birth           0\n",
       "Outcome Type            9\n",
       "Outcome Subtype     59058\n",
       "Animal Type             0\n",
       "Sex upon Outcome        3\n",
       "Age upon Outcome       27\n",
       "Breed                   0\n",
       "Color                   0\n",
       "dtype: int64"
      ]
     },
     "execution_count": 13,
     "metadata": {},
     "output_type": "execute_result"
    }
   ],
   "source": [
    "outcomes.isna().sum()"
   ]
  },
  {
   "cell_type": "markdown",
   "metadata": {
    "slideshow": {
     "slide_type": "slide"
    }
   },
   "source": [
    "### Your Turn!\n",
    "\n",
    "### Apply to `intakes`\n",
    "\n",
    "Now, for the `intakes` dataset. How does it compare to `outcomes`?\n",
    "- does it have the same number of observations?\n",
    "- same column  names?\n",
    "- do rows in data represent the same level of information?\n",
    "- are the datatypes the same or different?\n",
    "- what about missing data?"
   ]
  },
  {
   "cell_type": "code",
   "execution_count": 14,
   "metadata": {},
   "outputs": [],
   "source": [
    "# your code here"
   ]
  },
  {
   "cell_type": "code",
   "execution_count": 15,
   "metadata": {},
   "outputs": [
    {
     "data": {
      "text/html": [
       "<div>\n",
       "<style scoped>\n",
       "    .dataframe tbody tr th:only-of-type {\n",
       "        vertical-align: middle;\n",
       "    }\n",
       "\n",
       "    .dataframe tbody tr th {\n",
       "        vertical-align: top;\n",
       "    }\n",
       "\n",
       "    .dataframe thead th {\n",
       "        text-align: right;\n",
       "    }\n",
       "</style>\n",
       "<table border=\"1\" class=\"dataframe\">\n",
       "  <thead>\n",
       "    <tr style=\"text-align: right;\">\n",
       "      <th></th>\n",
       "      <th>Animal ID</th>\n",
       "      <th>Name</th>\n",
       "      <th>DateTime</th>\n",
       "      <th>MonthYear</th>\n",
       "      <th>Found Location</th>\n",
       "      <th>Intake Type</th>\n",
       "      <th>Intake Condition</th>\n",
       "      <th>Animal Type</th>\n",
       "      <th>Sex upon Intake</th>\n",
       "      <th>Age upon Intake</th>\n",
       "      <th>Breed</th>\n",
       "      <th>Color</th>\n",
       "    </tr>\n",
       "  </thead>\n",
       "  <tbody>\n",
       "    <tr>\n",
       "      <th>0</th>\n",
       "      <td>A805435</td>\n",
       "      <td>NaN</td>\n",
       "      <td>09/26/2019 06:45:00 PM</td>\n",
       "      <td>09/26/2019 06:45:00 PM</td>\n",
       "      <td>1004 Ellingson Lane in Austin (TX)</td>\n",
       "      <td>Owner Surrender</td>\n",
       "      <td>Normal</td>\n",
       "      <td>Cat</td>\n",
       "      <td>Spayed Female</td>\n",
       "      <td>1 year</td>\n",
       "      <td>Domestic Shorthair</td>\n",
       "      <td>Blue</td>\n",
       "    </tr>\n",
       "    <tr>\n",
       "      <th>1</th>\n",
       "      <td>A805436</td>\n",
       "      <td>NaN</td>\n",
       "      <td>09/26/2019 06:45:00 PM</td>\n",
       "      <td>09/26/2019 06:45:00 PM</td>\n",
       "      <td>1004 Ellingson Lane in Austin (TX)</td>\n",
       "      <td>Owner Surrender</td>\n",
       "      <td>Normal</td>\n",
       "      <td>Cat</td>\n",
       "      <td>Spayed Female</td>\n",
       "      <td>6 months</td>\n",
       "      <td>Domestic Shorthair</td>\n",
       "      <td>Tortie</td>\n",
       "    </tr>\n",
       "    <tr>\n",
       "      <th>2</th>\n",
       "      <td>A805434</td>\n",
       "      <td>NaN</td>\n",
       "      <td>09/26/2019 06:43:00 PM</td>\n",
       "      <td>09/26/2019 06:43:00 PM</td>\n",
       "      <td>9706 Halifax Drive in Austin (TX)</td>\n",
       "      <td>Stray</td>\n",
       "      <td>Normal</td>\n",
       "      <td>Cat</td>\n",
       "      <td>Intact Female</td>\n",
       "      <td>6 months</td>\n",
       "      <td>Domestic Shorthair</td>\n",
       "      <td>Brown Tabby</td>\n",
       "    </tr>\n",
       "    <tr>\n",
       "      <th>3</th>\n",
       "      <td>A805437</td>\n",
       "      <td>Creamy</td>\n",
       "      <td>09/26/2019 06:38:00 PM</td>\n",
       "      <td>09/26/2019 06:38:00 PM</td>\n",
       "      <td>1414 Mckinley Avenue in Austin (TX)</td>\n",
       "      <td>Stray</td>\n",
       "      <td>Normal</td>\n",
       "      <td>Cat</td>\n",
       "      <td>Unknown</td>\n",
       "      <td>10 years</td>\n",
       "      <td>Domestic Shorthair</td>\n",
       "      <td>Cream Tabby</td>\n",
       "    </tr>\n",
       "    <tr>\n",
       "      <th>4</th>\n",
       "      <td>A805433</td>\n",
       "      <td>NaN</td>\n",
       "      <td>09/26/2019 06:36:00 PM</td>\n",
       "      <td>09/26/2019 06:36:00 PM</td>\n",
       "      <td>1801 East 51St Street in Austin (TX)</td>\n",
       "      <td>Stray</td>\n",
       "      <td>Normal</td>\n",
       "      <td>Other</td>\n",
       "      <td>Unknown</td>\n",
       "      <td>2 years</td>\n",
       "      <td>Guinea Pig</td>\n",
       "      <td>Calico</td>\n",
       "    </tr>\n",
       "  </tbody>\n",
       "</table>\n",
       "</div>"
      ],
      "text/plain": [
       "  Animal ID    Name                DateTime               MonthYear  \\\n",
       "0   A805435     NaN  09/26/2019 06:45:00 PM  09/26/2019 06:45:00 PM   \n",
       "1   A805436     NaN  09/26/2019 06:45:00 PM  09/26/2019 06:45:00 PM   \n",
       "2   A805434     NaN  09/26/2019 06:43:00 PM  09/26/2019 06:43:00 PM   \n",
       "3   A805437  Creamy  09/26/2019 06:38:00 PM  09/26/2019 06:38:00 PM   \n",
       "4   A805433     NaN  09/26/2019 06:36:00 PM  09/26/2019 06:36:00 PM   \n",
       "\n",
       "                         Found Location      Intake Type Intake Condition  \\\n",
       "0    1004 Ellingson Lane in Austin (TX)  Owner Surrender           Normal   \n",
       "1    1004 Ellingson Lane in Austin (TX)  Owner Surrender           Normal   \n",
       "2     9706 Halifax Drive in Austin (TX)            Stray           Normal   \n",
       "3   1414 Mckinley Avenue in Austin (TX)            Stray           Normal   \n",
       "4  1801 East 51St Street in Austin (TX)            Stray           Normal   \n",
       "\n",
       "  Animal Type Sex upon Intake Age upon Intake               Breed        Color  \n",
       "0         Cat   Spayed Female          1 year  Domestic Shorthair         Blue  \n",
       "1         Cat   Spayed Female        6 months  Domestic Shorthair       Tortie  \n",
       "2         Cat   Intact Female        6 months  Domestic Shorthair  Brown Tabby  \n",
       "3         Cat         Unknown        10 years  Domestic Shorthair  Cream Tabby  \n",
       "4       Other         Unknown         2 years          Guinea Pig       Calico  "
      ]
     },
     "execution_count": 15,
     "metadata": {},
     "output_type": "execute_result"
    }
   ],
   "source": [
    "#SOLUTION\n",
    "\n",
    "intakes.head()"
   ]
  },
  {
   "cell_type": "code",
   "execution_count": 16,
   "metadata": {},
   "outputs": [
    {
     "name": "stdout",
     "output_type": "stream",
     "text": [
      "(108919, 12)\n",
      "Index(['Animal ID', 'Name', 'DateTime', 'MonthYear', 'Found Location',\n",
      "       'Intake Type', 'Intake Condition', 'Animal Type', 'Sex upon Intake',\n",
      "       'Age upon Intake', 'Breed', 'Color'],\n",
      "      dtype='object')\n",
      "<class 'pandas.core.frame.DataFrame'>\n",
      "RangeIndex: 108919 entries, 0 to 108918\n",
      "Data columns (total 12 columns):\n",
      " #   Column            Non-Null Count   Dtype \n",
      "---  ------            --------------   ----- \n",
      " 0   Animal ID         108919 non-null  object\n",
      " 1   Name              74417 non-null   object\n",
      " 2   DateTime          108919 non-null  object\n",
      " 3   MonthYear         108919 non-null  object\n",
      " 4   Found Location    108919 non-null  object\n",
      " 5   Intake Type       108919 non-null  object\n",
      " 6   Intake Condition  108919 non-null  object\n",
      " 7   Animal Type       108919 non-null  object\n",
      " 8   Sex upon Intake   108918 non-null  object\n",
      " 9   Age upon Intake   108919 non-null  object\n",
      " 10  Breed             108919 non-null  object\n",
      " 11  Color             108919 non-null  object\n",
      "dtypes: object(12)\n",
      "memory usage: 10.0+ MB\n"
     ]
    }
   ],
   "source": [
    "#SOLUTION\n",
    "print(intakes.shape)\n",
    "print(intakes.columns)\n",
    "intakes.info()"
   ]
  },
  {
   "cell_type": "markdown",
   "metadata": {
    "slideshow": {
     "slide_type": "slide"
    }
   },
   "source": [
    "#### Now let's find the age of the animals in the shelter!\n",
    "\n",
    "#### This should be easy, we have 'Age upon Outcome' in our outcomes dataframe"
   ]
  },
  {
   "cell_type": "code",
   "execution_count": 17,
   "metadata": {},
   "outputs": [
    {
     "ename": "TypeError",
     "evalue": "unsupported operand type(s) for +: 'int' and 'str'",
     "output_type": "error",
     "traceback": [
      "\u001b[0;31m---------------------------------------------------------------------------\u001b[0m",
      "\u001b[0;31mTypeError\u001b[0m                                 Traceback (most recent call last)",
      "\u001b[0;32m<ipython-input-17-08c011963264>\u001b[0m in \u001b[0;36m<module>\u001b[0;34m\u001b[0m\n\u001b[0;32m----> 1\u001b[0;31m \u001b[0moutcomes\u001b[0m\u001b[0;34m[\u001b[0m\u001b[0;34m'Age upon Outcome'\u001b[0m\u001b[0;34m]\u001b[0m\u001b[0;34m.\u001b[0m\u001b[0mmean\u001b[0m\u001b[0;34m(\u001b[0m\u001b[0;34m)\u001b[0m\u001b[0;34m\u001b[0m\u001b[0;34m\u001b[0m\u001b[0m\n\u001b[0m",
      "\u001b[0;32m/anaconda3/lib/python3.7/site-packages/pandas/core/generic.py\u001b[0m in \u001b[0;36mstat_func\u001b[0;34m(self, axis, skipna, level, numeric_only, **kwargs)\u001b[0m\n\u001b[1;32m  11214\u001b[0m             \u001b[0;32mreturn\u001b[0m \u001b[0mself\u001b[0m\u001b[0;34m.\u001b[0m\u001b[0m_agg_by_level\u001b[0m\u001b[0;34m(\u001b[0m\u001b[0mname\u001b[0m\u001b[0;34m,\u001b[0m \u001b[0maxis\u001b[0m\u001b[0;34m=\u001b[0m\u001b[0maxis\u001b[0m\u001b[0;34m,\u001b[0m \u001b[0mlevel\u001b[0m\u001b[0;34m=\u001b[0m\u001b[0mlevel\u001b[0m\u001b[0;34m,\u001b[0m \u001b[0mskipna\u001b[0m\u001b[0;34m=\u001b[0m\u001b[0mskipna\u001b[0m\u001b[0;34m)\u001b[0m\u001b[0;34m\u001b[0m\u001b[0;34m\u001b[0m\u001b[0m\n\u001b[1;32m  11215\u001b[0m         return self._reduce(\n\u001b[0;32m> 11216\u001b[0;31m             \u001b[0mf\u001b[0m\u001b[0;34m,\u001b[0m \u001b[0mname\u001b[0m\u001b[0;34m,\u001b[0m \u001b[0maxis\u001b[0m\u001b[0;34m=\u001b[0m\u001b[0maxis\u001b[0m\u001b[0;34m,\u001b[0m \u001b[0mskipna\u001b[0m\u001b[0;34m=\u001b[0m\u001b[0mskipna\u001b[0m\u001b[0;34m,\u001b[0m \u001b[0mnumeric_only\u001b[0m\u001b[0;34m=\u001b[0m\u001b[0mnumeric_only\u001b[0m\u001b[0;34m\u001b[0m\u001b[0;34m\u001b[0m\u001b[0m\n\u001b[0m\u001b[1;32m  11217\u001b[0m         )\n\u001b[1;32m  11218\u001b[0m \u001b[0;34m\u001b[0m\u001b[0m\n",
      "\u001b[0;32m/anaconda3/lib/python3.7/site-packages/pandas/core/series.py\u001b[0m in \u001b[0;36m_reduce\u001b[0;34m(self, op, name, axis, skipna, numeric_only, filter_type, **kwds)\u001b[0m\n\u001b[1;32m   3890\u001b[0m                 )\n\u001b[1;32m   3891\u001b[0m             \u001b[0;32mwith\u001b[0m \u001b[0mnp\u001b[0m\u001b[0;34m.\u001b[0m\u001b[0merrstate\u001b[0m\u001b[0;34m(\u001b[0m\u001b[0mall\u001b[0m\u001b[0;34m=\u001b[0m\u001b[0;34m\"ignore\"\u001b[0m\u001b[0;34m)\u001b[0m\u001b[0;34m:\u001b[0m\u001b[0;34m\u001b[0m\u001b[0;34m\u001b[0m\u001b[0m\n\u001b[0;32m-> 3892\u001b[0;31m                 \u001b[0;32mreturn\u001b[0m \u001b[0mop\u001b[0m\u001b[0;34m(\u001b[0m\u001b[0mdelegate\u001b[0m\u001b[0;34m,\u001b[0m \u001b[0mskipna\u001b[0m\u001b[0;34m=\u001b[0m\u001b[0mskipna\u001b[0m\u001b[0;34m,\u001b[0m \u001b[0;34m**\u001b[0m\u001b[0mkwds\u001b[0m\u001b[0;34m)\u001b[0m\u001b[0;34m\u001b[0m\u001b[0;34m\u001b[0m\u001b[0m\n\u001b[0m\u001b[1;32m   3893\u001b[0m \u001b[0;34m\u001b[0m\u001b[0m\n\u001b[1;32m   3894\u001b[0m         \u001b[0;31m# TODO(EA) dispatch to Index\u001b[0m\u001b[0;34m\u001b[0m\u001b[0;34m\u001b[0m\u001b[0;34m\u001b[0m\u001b[0m\n",
      "\u001b[0;32m/anaconda3/lib/python3.7/site-packages/pandas/core/nanops.py\u001b[0m in \u001b[0;36m_f\u001b[0;34m(*args, **kwargs)\u001b[0m\n\u001b[1;32m     67\u001b[0m             \u001b[0;32mtry\u001b[0m\u001b[0;34m:\u001b[0m\u001b[0;34m\u001b[0m\u001b[0;34m\u001b[0m\u001b[0m\n\u001b[1;32m     68\u001b[0m                 \u001b[0;32mwith\u001b[0m \u001b[0mnp\u001b[0m\u001b[0;34m.\u001b[0m\u001b[0merrstate\u001b[0m\u001b[0;34m(\u001b[0m\u001b[0minvalid\u001b[0m\u001b[0;34m=\u001b[0m\u001b[0;34m\"ignore\"\u001b[0m\u001b[0;34m)\u001b[0m\u001b[0;34m:\u001b[0m\u001b[0;34m\u001b[0m\u001b[0;34m\u001b[0m\u001b[0m\n\u001b[0;32m---> 69\u001b[0;31m                     \u001b[0;32mreturn\u001b[0m \u001b[0mf\u001b[0m\u001b[0;34m(\u001b[0m\u001b[0;34m*\u001b[0m\u001b[0margs\u001b[0m\u001b[0;34m,\u001b[0m \u001b[0;34m**\u001b[0m\u001b[0mkwargs\u001b[0m\u001b[0;34m)\u001b[0m\u001b[0;34m\u001b[0m\u001b[0;34m\u001b[0m\u001b[0m\n\u001b[0m\u001b[1;32m     70\u001b[0m             \u001b[0;32mexcept\u001b[0m \u001b[0mValueError\u001b[0m \u001b[0;32mas\u001b[0m \u001b[0me\u001b[0m\u001b[0;34m:\u001b[0m\u001b[0;34m\u001b[0m\u001b[0;34m\u001b[0m\u001b[0m\n\u001b[1;32m     71\u001b[0m                 \u001b[0;31m# we want to transform an object array\u001b[0m\u001b[0;34m\u001b[0m\u001b[0;34m\u001b[0m\u001b[0;34m\u001b[0m\u001b[0m\n",
      "\u001b[0;32m/anaconda3/lib/python3.7/site-packages/pandas/core/nanops.py\u001b[0m in \u001b[0;36mf\u001b[0;34m(values, axis, skipna, **kwds)\u001b[0m\n\u001b[1;32m    123\u001b[0m                     \u001b[0mresult\u001b[0m \u001b[0;34m=\u001b[0m \u001b[0malt\u001b[0m\u001b[0;34m(\u001b[0m\u001b[0mvalues\u001b[0m\u001b[0;34m,\u001b[0m \u001b[0maxis\u001b[0m\u001b[0;34m=\u001b[0m\u001b[0maxis\u001b[0m\u001b[0;34m,\u001b[0m \u001b[0mskipna\u001b[0m\u001b[0;34m=\u001b[0m\u001b[0mskipna\u001b[0m\u001b[0;34m,\u001b[0m \u001b[0;34m**\u001b[0m\u001b[0mkwds\u001b[0m\u001b[0;34m)\u001b[0m\u001b[0;34m\u001b[0m\u001b[0;34m\u001b[0m\u001b[0m\n\u001b[1;32m    124\u001b[0m             \u001b[0;32melse\u001b[0m\u001b[0;34m:\u001b[0m\u001b[0;34m\u001b[0m\u001b[0;34m\u001b[0m\u001b[0m\n\u001b[0;32m--> 125\u001b[0;31m                 \u001b[0mresult\u001b[0m \u001b[0;34m=\u001b[0m \u001b[0malt\u001b[0m\u001b[0;34m(\u001b[0m\u001b[0mvalues\u001b[0m\u001b[0;34m,\u001b[0m \u001b[0maxis\u001b[0m\u001b[0;34m=\u001b[0m\u001b[0maxis\u001b[0m\u001b[0;34m,\u001b[0m \u001b[0mskipna\u001b[0m\u001b[0;34m=\u001b[0m\u001b[0mskipna\u001b[0m\u001b[0;34m,\u001b[0m \u001b[0;34m**\u001b[0m\u001b[0mkwds\u001b[0m\u001b[0;34m)\u001b[0m\u001b[0;34m\u001b[0m\u001b[0;34m\u001b[0m\u001b[0m\n\u001b[0m\u001b[1;32m    126\u001b[0m \u001b[0;34m\u001b[0m\u001b[0m\n\u001b[1;32m    127\u001b[0m             \u001b[0;32mreturn\u001b[0m \u001b[0mresult\u001b[0m\u001b[0;34m\u001b[0m\u001b[0;34m\u001b[0m\u001b[0m\n",
      "\u001b[0;32m/anaconda3/lib/python3.7/site-packages/pandas/core/nanops.py\u001b[0m in \u001b[0;36mnanmean\u001b[0;34m(values, axis, skipna, mask)\u001b[0m\n\u001b[1;32m    540\u001b[0m         \u001b[0mdtype_count\u001b[0m \u001b[0;34m=\u001b[0m \u001b[0mdtype\u001b[0m\u001b[0;34m\u001b[0m\u001b[0;34m\u001b[0m\u001b[0m\n\u001b[1;32m    541\u001b[0m     \u001b[0mcount\u001b[0m \u001b[0;34m=\u001b[0m \u001b[0m_get_counts\u001b[0m\u001b[0;34m(\u001b[0m\u001b[0mvalues\u001b[0m\u001b[0;34m.\u001b[0m\u001b[0mshape\u001b[0m\u001b[0;34m,\u001b[0m \u001b[0mmask\u001b[0m\u001b[0;34m,\u001b[0m \u001b[0maxis\u001b[0m\u001b[0;34m,\u001b[0m \u001b[0mdtype\u001b[0m\u001b[0;34m=\u001b[0m\u001b[0mdtype_count\u001b[0m\u001b[0;34m)\u001b[0m\u001b[0;34m\u001b[0m\u001b[0;34m\u001b[0m\u001b[0m\n\u001b[0;32m--> 542\u001b[0;31m     \u001b[0mthe_sum\u001b[0m \u001b[0;34m=\u001b[0m \u001b[0m_ensure_numeric\u001b[0m\u001b[0;34m(\u001b[0m\u001b[0mvalues\u001b[0m\u001b[0;34m.\u001b[0m\u001b[0msum\u001b[0m\u001b[0;34m(\u001b[0m\u001b[0maxis\u001b[0m\u001b[0;34m,\u001b[0m \u001b[0mdtype\u001b[0m\u001b[0;34m=\u001b[0m\u001b[0mdtype_sum\u001b[0m\u001b[0;34m)\u001b[0m\u001b[0;34m)\u001b[0m\u001b[0;34m\u001b[0m\u001b[0;34m\u001b[0m\u001b[0m\n\u001b[0m\u001b[1;32m    543\u001b[0m \u001b[0;34m\u001b[0m\u001b[0m\n\u001b[1;32m    544\u001b[0m     \u001b[0;32mif\u001b[0m \u001b[0maxis\u001b[0m \u001b[0;32mis\u001b[0m \u001b[0;32mnot\u001b[0m \u001b[0;32mNone\u001b[0m \u001b[0;32mand\u001b[0m \u001b[0mgetattr\u001b[0m\u001b[0;34m(\u001b[0m\u001b[0mthe_sum\u001b[0m\u001b[0;34m,\u001b[0m \u001b[0;34m\"ndim\"\u001b[0m\u001b[0;34m,\u001b[0m \u001b[0;32mFalse\u001b[0m\u001b[0;34m)\u001b[0m\u001b[0;34m:\u001b[0m\u001b[0;34m\u001b[0m\u001b[0;34m\u001b[0m\u001b[0m\n",
      "\u001b[0;32m/anaconda3/lib/python3.7/site-packages/numpy/core/_methods.py\u001b[0m in \u001b[0;36m_sum\u001b[0;34m(a, axis, dtype, out, keepdims, initial, where)\u001b[0m\n\u001b[1;32m     36\u001b[0m def _sum(a, axis=None, dtype=None, out=None, keepdims=False,\n\u001b[1;32m     37\u001b[0m          initial=_NoValue, where=True):\n\u001b[0;32m---> 38\u001b[0;31m     \u001b[0;32mreturn\u001b[0m \u001b[0mumr_sum\u001b[0m\u001b[0;34m(\u001b[0m\u001b[0ma\u001b[0m\u001b[0;34m,\u001b[0m \u001b[0maxis\u001b[0m\u001b[0;34m,\u001b[0m \u001b[0mdtype\u001b[0m\u001b[0;34m,\u001b[0m \u001b[0mout\u001b[0m\u001b[0;34m,\u001b[0m \u001b[0mkeepdims\u001b[0m\u001b[0;34m,\u001b[0m \u001b[0minitial\u001b[0m\u001b[0;34m,\u001b[0m \u001b[0mwhere\u001b[0m\u001b[0;34m)\u001b[0m\u001b[0;34m\u001b[0m\u001b[0;34m\u001b[0m\u001b[0m\n\u001b[0m\u001b[1;32m     39\u001b[0m \u001b[0;34m\u001b[0m\u001b[0m\n\u001b[1;32m     40\u001b[0m def _prod(a, axis=None, dtype=None, out=None, keepdims=False,\n",
      "\u001b[0;31mTypeError\u001b[0m: unsupported operand type(s) for +: 'int' and 'str'"
     ]
    }
   ],
   "source": [
    "outcomes['Age upon Outcome'].mean()"
   ]
  },
  {
   "cell_type": "markdown",
   "metadata": {
    "slideshow": {
     "slide_type": "slide"
    }
   },
   "source": [
    "### Wait! Something went wrong!\n",
    "What happened? Why?"
   ]
  },
  {
   "cell_type": "markdown",
   "metadata": {
    "slideshow": {
     "slide_type": "slide"
    }
   },
   "source": [
    "We are going to need to struggle through some data cleaning\n",
    "\n",
    "![panda struggle](img/panda_struggle.gif)"
   ]
  },
  {
   "cell_type": "markdown",
   "metadata": {
    "slideshow": {
     "slide_type": "slide"
    }
   },
   "source": [
    "## Data Cleaning"
   ]
  },
  {
   "cell_type": "markdown",
   "metadata": {},
   "source": [
    "**First step**: make the column names easier to work with\n",
    "\n",
    "Going to use `str`, `lower`, and [`replace`](https://pandas.pydata.org/pandas-docs/stable/reference/api/pandas.Series.str.replace.html) to make our lives easier."
   ]
  },
  {
   "cell_type": "code",
   "execution_count": 18,
   "metadata": {},
   "outputs": [
    {
     "data": {
      "text/plain": [
       "Index(['Animal ID', 'Name', 'DateTime', 'MonthYear', 'Date of Birth',\n",
       "       'Outcome Type', 'Outcome Subtype', 'Animal Type', 'Sex upon Outcome',\n",
       "       'Age upon Outcome', 'Breed', 'Color'],\n",
       "      dtype='object')"
      ]
     },
     "execution_count": 18,
     "metadata": {},
     "output_type": "execute_result"
    }
   ],
   "source": [
    "outcomes.columns"
   ]
  },
  {
   "cell_type": "code",
   "execution_count": 19,
   "metadata": {},
   "outputs": [
    {
     "data": {
      "text/plain": [
       "Index(['animal id', 'name', 'datetime', 'monthyear', 'date of birth',\n",
       "       'outcome type', 'outcome subtype', 'animal type', 'sex upon outcome',\n",
       "       'age upon outcome', 'breed', 'color'],\n",
       "      dtype='object')"
      ]
     },
     "execution_count": 19,
     "metadata": {},
     "output_type": "execute_result"
    }
   ],
   "source": [
    "outcomes.columns = outcomes.columns.str.lower()\n",
    "outcomes.columns"
   ]
  },
  {
   "cell_type": "code",
   "execution_count": 20,
   "metadata": {},
   "outputs": [
    {
     "data": {
      "text/plain": [
       "Index(['animal_id', 'name', 'datetime', 'monthyear', 'date_of_birth',\n",
       "       'outcome_type', 'outcome_subtype', 'animal_type', 'sex_upon_outcome',\n",
       "       'age_upon_outcome', 'breed', 'color'],\n",
       "      dtype='object')"
      ]
     },
     "execution_count": 20,
     "metadata": {},
     "output_type": "execute_result"
    }
   ],
   "source": [
    "outcomes.columns = outcomes.columns.str.replace(' ', '_')\n",
    "outcomes.columns"
   ]
  },
  {
   "cell_type": "markdown",
   "metadata": {
    "slideshow": {
     "slide_type": "slide"
    }
   },
   "source": [
    "### Your Turn!\n",
    "\n",
    "#### Apply the above cleaning to intakes!"
   ]
  },
  {
   "cell_type": "code",
   "execution_count": 21,
   "metadata": {},
   "outputs": [],
   "source": [
    "# your code here"
   ]
  },
  {
   "cell_type": "code",
   "execution_count": 22,
   "metadata": {},
   "outputs": [
    {
     "data": {
      "text/plain": [
       "Index(['Animal ID', 'Name', 'DateTime', 'MonthYear', 'Found Location',\n",
       "       'Intake Type', 'Intake Condition', 'Animal Type', 'Sex upon Intake',\n",
       "       'Age upon Intake', 'Breed', 'Color'],\n",
       "      dtype='object')"
      ]
     },
     "execution_count": 22,
     "metadata": {},
     "output_type": "execute_result"
    }
   ],
   "source": [
    "intakes.columns"
   ]
  },
  {
   "cell_type": "code",
   "execution_count": 23,
   "metadata": {},
   "outputs": [
    {
     "data": {
      "text/plain": [
       "Index(['animal_id', 'name', 'datetime', 'monthyear', 'found_location',\n",
       "       'intake_type', 'intake_condition', 'animal_type', 'sex_upon_intake',\n",
       "       'age_upon_intake', 'breed', 'color'],\n",
       "      dtype='object')"
      ]
     },
     "execution_count": 23,
     "metadata": {},
     "output_type": "execute_result"
    }
   ],
   "source": [
    "#SOLUTION\n",
    "intakes.columns = intakes.columns.str.lower()\n",
    "intakes.columns = intakes.columns.str.replace(' ', '_')\n",
    "intakes.columns"
   ]
  },
  {
   "cell_type": "markdown",
   "metadata": {
    "slideshow": {
     "slide_type": "slide"
    }
   },
   "source": [
    "#### **Why** care about that?\n",
    "Because now I can use `tab` to find column names.<br>\n",
    "\n",
    "#### How many of each type of animals are in the outcomes dataset?\n",
    "\n",
    "We can use the [`value_counts()`](https://pandas.pydata.org/pandas-docs/stable/reference/api/pandas.Series.value_counts.html) function to get counts for each value in the animal types column in outcomes.<br>\n"
   ]
  },
  {
   "cell_type": "code",
   "execution_count": 24,
   "metadata": {},
   "outputs": [
    {
     "data": {
      "text/plain": [
       "Dog          61525\n",
       "Cat          40828\n",
       "Other         5653\n",
       "Bird           496\n",
       "Livestock       17\n",
       "Name: animal_type, dtype: int64"
      ]
     },
     "execution_count": 24,
     "metadata": {},
     "output_type": "execute_result"
    }
   ],
   "source": [
    "outcomes.animal_type.value_counts()"
   ]
  },
  {
   "cell_type": "markdown",
   "metadata": {
    "slideshow": {
     "slide_type": "slide"
    }
   },
   "source": [
    "### Let's see the unique values of age"
   ]
  },
  {
   "cell_type": "code",
   "execution_count": 25,
   "metadata": {},
   "outputs": [
    {
     "data": {
      "text/plain": [
       "1 year       19697\n",
       "2 years      15935\n",
       "2 months     13028\n",
       "3 years       6649\n",
       "3 months      4942\n",
       "1 month       4809\n",
       "4 years       3975\n",
       "5 years       3634\n",
       "4 months      3393\n",
       "5 months      2621\n",
       "6 months      2568\n",
       "6 years       2422\n",
       "8 years       2087\n",
       "7 years       2078\n",
       "3 weeks       1959\n",
       "2 weeks       1881\n",
       "8 months      1708\n",
       "4 weeks       1658\n",
       "10 years      1639\n",
       "10 months     1578\n",
       "7 months      1359\n",
       "9 years       1136\n",
       "9 months      1096\n",
       "12 years       818\n",
       "1 weeks        752\n",
       "11 months      684\n",
       "11 years       638\n",
       "1 week         612\n",
       "13 years       513\n",
       "14 years       345\n",
       "2 days         316\n",
       "3 days         315\n",
       "15 years       289\n",
       "1 day          239\n",
       "6 days         217\n",
       "4 days         200\n",
       "0 years        159\n",
       "5 days         145\n",
       "16 years       130\n",
       "5 weeks        104\n",
       "17 years        72\n",
       "18 years        45\n",
       "19 years        22\n",
       "20 years        17\n",
       "22 years         4\n",
       "24 years         1\n",
       "-1 years         1\n",
       "25 years         1\n",
       "21 years         1\n",
       "Name: age_upon_outcome, dtype: int64"
      ]
     },
     "execution_count": 25,
     "metadata": {},
     "output_type": "execute_result"
    }
   ],
   "source": [
    "outcomes.age_upon_outcome.value_counts()"
   ]
  },
  {
   "cell_type": "markdown",
   "metadata": {
    "slideshow": {
     "slide_type": "slide"
    }
   },
   "source": [
    "#### What's the challenge with these numbers?"
   ]
  },
  {
   "cell_type": "markdown",
   "metadata": {
    "slideshow": {
     "slide_type": "fragment"
    }
   },
   "source": [
    "#### What could we use instead?"
   ]
  },
  {
   "cell_type": "markdown",
   "metadata": {
    "slideshow": {
     "slide_type": "slide"
    }
   },
   "source": [
    "#### Steps needed:\n",
    "- convert dates to correct date types\n",
    "- create a new age variable subtracting dates\n",
    "- drop the original age variable"
   ]
  },
  {
   "cell_type": "markdown",
   "metadata": {
    "slideshow": {
     "slide_type": "slide"
    }
   },
   "source": [
    "### Converting dtypes\n",
    "\n",
    "Okay, going to use a [`apply`](https://pandas.pydata.org/pandas-docs/version/0.18/generated/pandas.Series.apply.html) and a [`lambda`](https://www.w3schools.com/python/python_lambda.asp) function. \n",
    "\n",
    "\n",
    "\n",
    "It's getting exciting, now!\n",
    "\n",
    "\n",
    "`apply`, `map`, and `applymap`\n",
    "<img src='https://miro.medium.com/max/1796/1*deCRAl5DuNZ1a0TNGKYrNQ.png' width='500'>\n"
   ]
  },
  {
   "cell_type": "markdown",
   "metadata": {},
   "source": [
    "#### Anonymous Functions (Lambda Abstraction)"
   ]
  },
  {
   "cell_type": "markdown",
   "metadata": {},
   "source": [
    "Simple functions can be defined right in the function call. This is called 'lambda abstraction'; the function thus defined has no name and hence is \"anonymous\".\n",
    "\n",
    "It looks like the `datetime` column contains the date and time the outcome occured. Let's create a new column called `date_o` where we copy the `datetime` column."
   ]
  },
  {
   "cell_type": "code",
   "execution_count": 26,
   "metadata": {},
   "outputs": [
    {
     "data": {
      "text/html": [
       "<div>\n",
       "<style scoped>\n",
       "    .dataframe tbody tr th:only-of-type {\n",
       "        vertical-align: middle;\n",
       "    }\n",
       "\n",
       "    .dataframe tbody tr th {\n",
       "        vertical-align: top;\n",
       "    }\n",
       "\n",
       "    .dataframe thead th {\n",
       "        text-align: right;\n",
       "    }\n",
       "</style>\n",
       "<table border=\"1\" class=\"dataframe\">\n",
       "  <thead>\n",
       "    <tr style=\"text-align: right;\">\n",
       "      <th></th>\n",
       "      <th>animal_id</th>\n",
       "      <th>name</th>\n",
       "      <th>datetime</th>\n",
       "      <th>monthyear</th>\n",
       "      <th>date_of_birth</th>\n",
       "      <th>outcome_type</th>\n",
       "      <th>outcome_subtype</th>\n",
       "      <th>animal_type</th>\n",
       "      <th>sex_upon_outcome</th>\n",
       "      <th>age_upon_outcome</th>\n",
       "      <th>breed</th>\n",
       "      <th>color</th>\n",
       "      <th>date_o</th>\n",
       "    </tr>\n",
       "  </thead>\n",
       "  <tbody>\n",
       "    <tr>\n",
       "      <th>0</th>\n",
       "      <td>A805157</td>\n",
       "      <td>NaN</td>\n",
       "      <td>09/26/2019 07:12:00 PM</td>\n",
       "      <td>09/26/2019 07:12:00 PM</td>\n",
       "      <td>09/23/2018</td>\n",
       "      <td>Transfer</td>\n",
       "      <td>Partner</td>\n",
       "      <td>Bird</td>\n",
       "      <td>Unknown</td>\n",
       "      <td>NaN</td>\n",
       "      <td>Chicken</td>\n",
       "      <td>Red</td>\n",
       "      <td>09/26/2019 07:12:00 PM</td>\n",
       "    </tr>\n",
       "    <tr>\n",
       "      <th>1</th>\n",
       "      <td>A805124</td>\n",
       "      <td>NaN</td>\n",
       "      <td>09/26/2019 07:12:00 PM</td>\n",
       "      <td>09/26/2019 07:12:00 PM</td>\n",
       "      <td>09/22/2018</td>\n",
       "      <td>Transfer</td>\n",
       "      <td>Partner</td>\n",
       "      <td>Bird</td>\n",
       "      <td>Intact Male</td>\n",
       "      <td>NaN</td>\n",
       "      <td>Orpington</td>\n",
       "      <td>Cream</td>\n",
       "      <td>09/26/2019 07:12:00 PM</td>\n",
       "    </tr>\n",
       "    <tr>\n",
       "      <th>2</th>\n",
       "      <td>A805126</td>\n",
       "      <td>*Mambo</td>\n",
       "      <td>09/26/2019 07:11:00 PM</td>\n",
       "      <td>09/26/2019 07:11:00 PM</td>\n",
       "      <td>08/10/2019</td>\n",
       "      <td>NaN</td>\n",
       "      <td>NaN</td>\n",
       "      <td>Dog</td>\n",
       "      <td>Intact Male</td>\n",
       "      <td>NaN</td>\n",
       "      <td>German Shepherd Mix</td>\n",
       "      <td>Tan/Black</td>\n",
       "      <td>09/26/2019 07:11:00 PM</td>\n",
       "    </tr>\n",
       "    <tr>\n",
       "      <th>3</th>\n",
       "      <td>A801848</td>\n",
       "      <td>*Kit</td>\n",
       "      <td>09/26/2019 07:07:00 PM</td>\n",
       "      <td>09/26/2019 07:07:00 PM</td>\n",
       "      <td>07/10/2019</td>\n",
       "      <td>Adoption</td>\n",
       "      <td>NaN</td>\n",
       "      <td>Cat</td>\n",
       "      <td>Spayed Female</td>\n",
       "      <td>2 months</td>\n",
       "      <td>Domestic Shorthair</td>\n",
       "      <td>Orange Tabby</td>\n",
       "      <td>09/26/2019 07:07:00 PM</td>\n",
       "    </tr>\n",
       "    <tr>\n",
       "      <th>4</th>\n",
       "      <td>A805251</td>\n",
       "      <td>Cash</td>\n",
       "      <td>09/26/2019 06:50:00 PM</td>\n",
       "      <td>09/26/2019 06:50:00 PM</td>\n",
       "      <td>09/24/2018</td>\n",
       "      <td>Return to Owner</td>\n",
       "      <td>NaN</td>\n",
       "      <td>Dog</td>\n",
       "      <td>Intact Male</td>\n",
       "      <td>1 year</td>\n",
       "      <td>Australian Shepherd</td>\n",
       "      <td>Blue Merle/White</td>\n",
       "      <td>09/26/2019 06:50:00 PM</td>\n",
       "    </tr>\n",
       "  </tbody>\n",
       "</table>\n",
       "</div>"
      ],
      "text/plain": [
       "  animal_id    name                datetime               monthyear  \\\n",
       "0   A805157     NaN  09/26/2019 07:12:00 PM  09/26/2019 07:12:00 PM   \n",
       "1   A805124     NaN  09/26/2019 07:12:00 PM  09/26/2019 07:12:00 PM   \n",
       "2   A805126  *Mambo  09/26/2019 07:11:00 PM  09/26/2019 07:11:00 PM   \n",
       "3   A801848    *Kit  09/26/2019 07:07:00 PM  09/26/2019 07:07:00 PM   \n",
       "4   A805251    Cash  09/26/2019 06:50:00 PM  09/26/2019 06:50:00 PM   \n",
       "\n",
       "  date_of_birth     outcome_type outcome_subtype animal_type sex_upon_outcome  \\\n",
       "0    09/23/2018         Transfer         Partner        Bird          Unknown   \n",
       "1    09/22/2018         Transfer         Partner        Bird      Intact Male   \n",
       "2    08/10/2019              NaN             NaN         Dog      Intact Male   \n",
       "3    07/10/2019         Adoption             NaN         Cat    Spayed Female   \n",
       "4    09/24/2018  Return to Owner             NaN         Dog      Intact Male   \n",
       "\n",
       "  age_upon_outcome                breed             color  \\\n",
       "0              NaN              Chicken               Red   \n",
       "1              NaN            Orpington             Cream   \n",
       "2              NaN  German Shepherd Mix         Tan/Black   \n",
       "3         2 months   Domestic Shorthair      Orange Tabby   \n",
       "4           1 year  Australian Shepherd  Blue Merle/White   \n",
       "\n",
       "                   date_o  \n",
       "0  09/26/2019 07:12:00 PM  \n",
       "1  09/26/2019 07:12:00 PM  \n",
       "2  09/26/2019 07:11:00 PM  \n",
       "3  09/26/2019 07:07:00 PM  \n",
       "4  09/26/2019 06:50:00 PM  "
      ]
     },
     "execution_count": 26,
     "metadata": {},
     "output_type": "execute_result"
    }
   ],
   "source": [
    "outcomes['date_o'] = outcomes.datetime\n",
    "outcomes.head()"
   ]
  },
  {
   "cell_type": "markdown",
   "metadata": {},
   "source": [
    "Great we added that new column!  But we don't really care about the time of day the outcome occured.  We only care about the date!  Let's use a lambda function to slice that datetime!"
   ]
  },
  {
   "cell_type": "code",
   "execution_count": 27,
   "metadata": {},
   "outputs": [
    {
     "data": {
      "text/html": [
       "<div>\n",
       "<style scoped>\n",
       "    .dataframe tbody tr th:only-of-type {\n",
       "        vertical-align: middle;\n",
       "    }\n",
       "\n",
       "    .dataframe tbody tr th {\n",
       "        vertical-align: top;\n",
       "    }\n",
       "\n",
       "    .dataframe thead th {\n",
       "        text-align: right;\n",
       "    }\n",
       "</style>\n",
       "<table border=\"1\" class=\"dataframe\">\n",
       "  <thead>\n",
       "    <tr style=\"text-align: right;\">\n",
       "      <th></th>\n",
       "      <th>animal_id</th>\n",
       "      <th>name</th>\n",
       "      <th>datetime</th>\n",
       "      <th>monthyear</th>\n",
       "      <th>date_of_birth</th>\n",
       "      <th>outcome_type</th>\n",
       "      <th>outcome_subtype</th>\n",
       "      <th>animal_type</th>\n",
       "      <th>sex_upon_outcome</th>\n",
       "      <th>age_upon_outcome</th>\n",
       "      <th>breed</th>\n",
       "      <th>color</th>\n",
       "      <th>date_o</th>\n",
       "    </tr>\n",
       "  </thead>\n",
       "  <tbody>\n",
       "    <tr>\n",
       "      <th>0</th>\n",
       "      <td>A805157</td>\n",
       "      <td>NaN</td>\n",
       "      <td>09/26/2019 07:12:00 PM</td>\n",
       "      <td>09/26/2019 07:12:00 PM</td>\n",
       "      <td>09/23/2018</td>\n",
       "      <td>Transfer</td>\n",
       "      <td>Partner</td>\n",
       "      <td>Bird</td>\n",
       "      <td>Unknown</td>\n",
       "      <td>NaN</td>\n",
       "      <td>Chicken</td>\n",
       "      <td>Red</td>\n",
       "      <td>09/26/2019</td>\n",
       "    </tr>\n",
       "    <tr>\n",
       "      <th>1</th>\n",
       "      <td>A805124</td>\n",
       "      <td>NaN</td>\n",
       "      <td>09/26/2019 07:12:00 PM</td>\n",
       "      <td>09/26/2019 07:12:00 PM</td>\n",
       "      <td>09/22/2018</td>\n",
       "      <td>Transfer</td>\n",
       "      <td>Partner</td>\n",
       "      <td>Bird</td>\n",
       "      <td>Intact Male</td>\n",
       "      <td>NaN</td>\n",
       "      <td>Orpington</td>\n",
       "      <td>Cream</td>\n",
       "      <td>09/26/2019</td>\n",
       "    </tr>\n",
       "    <tr>\n",
       "      <th>2</th>\n",
       "      <td>A805126</td>\n",
       "      <td>*Mambo</td>\n",
       "      <td>09/26/2019 07:11:00 PM</td>\n",
       "      <td>09/26/2019 07:11:00 PM</td>\n",
       "      <td>08/10/2019</td>\n",
       "      <td>NaN</td>\n",
       "      <td>NaN</td>\n",
       "      <td>Dog</td>\n",
       "      <td>Intact Male</td>\n",
       "      <td>NaN</td>\n",
       "      <td>German Shepherd Mix</td>\n",
       "      <td>Tan/Black</td>\n",
       "      <td>09/26/2019</td>\n",
       "    </tr>\n",
       "    <tr>\n",
       "      <th>3</th>\n",
       "      <td>A801848</td>\n",
       "      <td>*Kit</td>\n",
       "      <td>09/26/2019 07:07:00 PM</td>\n",
       "      <td>09/26/2019 07:07:00 PM</td>\n",
       "      <td>07/10/2019</td>\n",
       "      <td>Adoption</td>\n",
       "      <td>NaN</td>\n",
       "      <td>Cat</td>\n",
       "      <td>Spayed Female</td>\n",
       "      <td>2 months</td>\n",
       "      <td>Domestic Shorthair</td>\n",
       "      <td>Orange Tabby</td>\n",
       "      <td>09/26/2019</td>\n",
       "    </tr>\n",
       "    <tr>\n",
       "      <th>4</th>\n",
       "      <td>A805251</td>\n",
       "      <td>Cash</td>\n",
       "      <td>09/26/2019 06:50:00 PM</td>\n",
       "      <td>09/26/2019 06:50:00 PM</td>\n",
       "      <td>09/24/2018</td>\n",
       "      <td>Return to Owner</td>\n",
       "      <td>NaN</td>\n",
       "      <td>Dog</td>\n",
       "      <td>Intact Male</td>\n",
       "      <td>1 year</td>\n",
       "      <td>Australian Shepherd</td>\n",
       "      <td>Blue Merle/White</td>\n",
       "      <td>09/26/2019</td>\n",
       "    </tr>\n",
       "  </tbody>\n",
       "</table>\n",
       "</div>"
      ],
      "text/plain": [
       "  animal_id    name                datetime               monthyear  \\\n",
       "0   A805157     NaN  09/26/2019 07:12:00 PM  09/26/2019 07:12:00 PM   \n",
       "1   A805124     NaN  09/26/2019 07:12:00 PM  09/26/2019 07:12:00 PM   \n",
       "2   A805126  *Mambo  09/26/2019 07:11:00 PM  09/26/2019 07:11:00 PM   \n",
       "3   A801848    *Kit  09/26/2019 07:07:00 PM  09/26/2019 07:07:00 PM   \n",
       "4   A805251    Cash  09/26/2019 06:50:00 PM  09/26/2019 06:50:00 PM   \n",
       "\n",
       "  date_of_birth     outcome_type outcome_subtype animal_type sex_upon_outcome  \\\n",
       "0    09/23/2018         Transfer         Partner        Bird          Unknown   \n",
       "1    09/22/2018         Transfer         Partner        Bird      Intact Male   \n",
       "2    08/10/2019              NaN             NaN         Dog      Intact Male   \n",
       "3    07/10/2019         Adoption             NaN         Cat    Spayed Female   \n",
       "4    09/24/2018  Return to Owner             NaN         Dog      Intact Male   \n",
       "\n",
       "  age_upon_outcome                breed             color      date_o  \n",
       "0              NaN              Chicken               Red  09/26/2019  \n",
       "1              NaN            Orpington             Cream  09/26/2019  \n",
       "2              NaN  German Shepherd Mix         Tan/Black  09/26/2019  \n",
       "3         2 months   Domestic Shorthair      Orange Tabby  09/26/2019  \n",
       "4           1 year  Australian Shepherd  Blue Merle/White  09/26/2019  "
      ]
     },
     "execution_count": 27,
     "metadata": {},
     "output_type": "execute_result"
    }
   ],
   "source": [
    "outcomes['date_o'] = outcomes.date_o.apply(lambda x: x[:10])\n",
    "outcomes.head()"
   ]
  },
  {
   "cell_type": "markdown",
   "metadata": {},
   "source": [
    "Awesome!  We shortened the date.  But it's still being read as an object datatype."
   ]
  },
  {
   "cell_type": "markdown",
   "metadata": {
    "slideshow": {
     "slide_type": "slide"
    }
   },
   "source": [
    "#### Using [`to_datetime`](https://pandas.pydata.org/pandas-docs/stable/reference/api/pandas.to_datetime.html) we can convert this to a datetime format where we can then calculate the age of the animal."
   ]
  },
  {
   "cell_type": "code",
   "execution_count": 28,
   "metadata": {},
   "outputs": [],
   "source": [
    "# convert date formats\n",
    "outcomes['date_o'] =  pd.to_datetime(outcomes['date_o'], format='%m/%d/%Y')\n",
    "outcomes['dob'] =  pd.to_datetime(outcomes['date_of_birth'], format='%m/%d/%Y')"
   ]
  },
  {
   "cell_type": "markdown",
   "metadata": {
    "slideshow": {
     "slide_type": "slide"
    }
   },
   "source": [
    "Check to see if it worked!"
   ]
  },
  {
   "cell_type": "code",
   "execution_count": 29,
   "metadata": {},
   "outputs": [
    {
     "data": {
      "text/html": [
       "<div>\n",
       "<style scoped>\n",
       "    .dataframe tbody tr th:only-of-type {\n",
       "        vertical-align: middle;\n",
       "    }\n",
       "\n",
       "    .dataframe tbody tr th {\n",
       "        vertical-align: top;\n",
       "    }\n",
       "\n",
       "    .dataframe thead th {\n",
       "        text-align: right;\n",
       "    }\n",
       "</style>\n",
       "<table border=\"1\" class=\"dataframe\">\n",
       "  <thead>\n",
       "    <tr style=\"text-align: right;\">\n",
       "      <th></th>\n",
       "      <th>animal_id</th>\n",
       "      <th>name</th>\n",
       "      <th>datetime</th>\n",
       "      <th>monthyear</th>\n",
       "      <th>date_of_birth</th>\n",
       "      <th>outcome_type</th>\n",
       "      <th>outcome_subtype</th>\n",
       "      <th>animal_type</th>\n",
       "      <th>sex_upon_outcome</th>\n",
       "      <th>age_upon_outcome</th>\n",
       "      <th>breed</th>\n",
       "      <th>color</th>\n",
       "      <th>date_o</th>\n",
       "      <th>dob</th>\n",
       "    </tr>\n",
       "  </thead>\n",
       "  <tbody>\n",
       "    <tr>\n",
       "      <th>0</th>\n",
       "      <td>A805157</td>\n",
       "      <td>NaN</td>\n",
       "      <td>09/26/2019 07:12:00 PM</td>\n",
       "      <td>09/26/2019 07:12:00 PM</td>\n",
       "      <td>09/23/2018</td>\n",
       "      <td>Transfer</td>\n",
       "      <td>Partner</td>\n",
       "      <td>Bird</td>\n",
       "      <td>Unknown</td>\n",
       "      <td>NaN</td>\n",
       "      <td>Chicken</td>\n",
       "      <td>Red</td>\n",
       "      <td>2019-09-26</td>\n",
       "      <td>2018-09-23</td>\n",
       "    </tr>\n",
       "    <tr>\n",
       "      <th>1</th>\n",
       "      <td>A805124</td>\n",
       "      <td>NaN</td>\n",
       "      <td>09/26/2019 07:12:00 PM</td>\n",
       "      <td>09/26/2019 07:12:00 PM</td>\n",
       "      <td>09/22/2018</td>\n",
       "      <td>Transfer</td>\n",
       "      <td>Partner</td>\n",
       "      <td>Bird</td>\n",
       "      <td>Intact Male</td>\n",
       "      <td>NaN</td>\n",
       "      <td>Orpington</td>\n",
       "      <td>Cream</td>\n",
       "      <td>2019-09-26</td>\n",
       "      <td>2018-09-22</td>\n",
       "    </tr>\n",
       "    <tr>\n",
       "      <th>2</th>\n",
       "      <td>A805126</td>\n",
       "      <td>*Mambo</td>\n",
       "      <td>09/26/2019 07:11:00 PM</td>\n",
       "      <td>09/26/2019 07:11:00 PM</td>\n",
       "      <td>08/10/2019</td>\n",
       "      <td>NaN</td>\n",
       "      <td>NaN</td>\n",
       "      <td>Dog</td>\n",
       "      <td>Intact Male</td>\n",
       "      <td>NaN</td>\n",
       "      <td>German Shepherd Mix</td>\n",
       "      <td>Tan/Black</td>\n",
       "      <td>2019-09-26</td>\n",
       "      <td>2019-08-10</td>\n",
       "    </tr>\n",
       "    <tr>\n",
       "      <th>3</th>\n",
       "      <td>A801848</td>\n",
       "      <td>*Kit</td>\n",
       "      <td>09/26/2019 07:07:00 PM</td>\n",
       "      <td>09/26/2019 07:07:00 PM</td>\n",
       "      <td>07/10/2019</td>\n",
       "      <td>Adoption</td>\n",
       "      <td>NaN</td>\n",
       "      <td>Cat</td>\n",
       "      <td>Spayed Female</td>\n",
       "      <td>2 months</td>\n",
       "      <td>Domestic Shorthair</td>\n",
       "      <td>Orange Tabby</td>\n",
       "      <td>2019-09-26</td>\n",
       "      <td>2019-07-10</td>\n",
       "    </tr>\n",
       "    <tr>\n",
       "      <th>4</th>\n",
       "      <td>A805251</td>\n",
       "      <td>Cash</td>\n",
       "      <td>09/26/2019 06:50:00 PM</td>\n",
       "      <td>09/26/2019 06:50:00 PM</td>\n",
       "      <td>09/24/2018</td>\n",
       "      <td>Return to Owner</td>\n",
       "      <td>NaN</td>\n",
       "      <td>Dog</td>\n",
       "      <td>Intact Male</td>\n",
       "      <td>1 year</td>\n",
       "      <td>Australian Shepherd</td>\n",
       "      <td>Blue Merle/White</td>\n",
       "      <td>2019-09-26</td>\n",
       "      <td>2018-09-24</td>\n",
       "    </tr>\n",
       "  </tbody>\n",
       "</table>\n",
       "</div>"
      ],
      "text/plain": [
       "  animal_id    name                datetime               monthyear  \\\n",
       "0   A805157     NaN  09/26/2019 07:12:00 PM  09/26/2019 07:12:00 PM   \n",
       "1   A805124     NaN  09/26/2019 07:12:00 PM  09/26/2019 07:12:00 PM   \n",
       "2   A805126  *Mambo  09/26/2019 07:11:00 PM  09/26/2019 07:11:00 PM   \n",
       "3   A801848    *Kit  09/26/2019 07:07:00 PM  09/26/2019 07:07:00 PM   \n",
       "4   A805251    Cash  09/26/2019 06:50:00 PM  09/26/2019 06:50:00 PM   \n",
       "\n",
       "  date_of_birth     outcome_type outcome_subtype animal_type sex_upon_outcome  \\\n",
       "0    09/23/2018         Transfer         Partner        Bird          Unknown   \n",
       "1    09/22/2018         Transfer         Partner        Bird      Intact Male   \n",
       "2    08/10/2019              NaN             NaN         Dog      Intact Male   \n",
       "3    07/10/2019         Adoption             NaN         Cat    Spayed Female   \n",
       "4    09/24/2018  Return to Owner             NaN         Dog      Intact Male   \n",
       "\n",
       "  age_upon_outcome                breed             color     date_o  \\\n",
       "0              NaN              Chicken               Red 2019-09-26   \n",
       "1              NaN            Orpington             Cream 2019-09-26   \n",
       "2              NaN  German Shepherd Mix         Tan/Black 2019-09-26   \n",
       "3         2 months   Domestic Shorthair      Orange Tabby 2019-09-26   \n",
       "4           1 year  Australian Shepherd  Blue Merle/White 2019-09-26   \n",
       "\n",
       "         dob  \n",
       "0 2018-09-23  \n",
       "1 2018-09-22  \n",
       "2 2019-08-10  \n",
       "3 2019-07-10  \n",
       "4 2018-09-24  "
      ]
     },
     "execution_count": 29,
     "metadata": {},
     "output_type": "execute_result"
    }
   ],
   "source": [
    "outcomes.head()"
   ]
  },
  {
   "cell_type": "code",
   "execution_count": 30,
   "metadata": {},
   "outputs": [
    {
     "data": {
      "text/plain": [
       "animal_id                   object\n",
       "name                        object\n",
       "datetime                    object\n",
       "monthyear                   object\n",
       "date_of_birth               object\n",
       "outcome_type                object\n",
       "outcome_subtype             object\n",
       "animal_type                 object\n",
       "sex_upon_outcome            object\n",
       "age_upon_outcome            object\n",
       "breed                       object\n",
       "color                       object\n",
       "date_o              datetime64[ns]\n",
       "dob                 datetime64[ns]\n",
       "dtype: object"
      ]
     },
     "execution_count": 30,
     "metadata": {},
     "output_type": "execute_result"
    }
   ],
   "source": [
    "outcomes.dtypes"
   ]
  },
  {
   "cell_type": "markdown",
   "metadata": {
    "slideshow": {
     "slide_type": "slide"
    }
   },
   "source": [
    "We did it!<br>\n",
    "Let's [`drop`](https://pandas.pydata.org/pandas-docs/stable/reference/api/pandas.DataFrame.drop.html) the variables we will no longer use. "
   ]
  },
  {
   "cell_type": "code",
   "execution_count": 31,
   "metadata": {},
   "outputs": [
    {
     "data": {
      "text/html": [
       "<div>\n",
       "<style scoped>\n",
       "    .dataframe tbody tr th:only-of-type {\n",
       "        vertical-align: middle;\n",
       "    }\n",
       "\n",
       "    .dataframe tbody tr th {\n",
       "        vertical-align: top;\n",
       "    }\n",
       "\n",
       "    .dataframe thead th {\n",
       "        text-align: right;\n",
       "    }\n",
       "</style>\n",
       "<table border=\"1\" class=\"dataframe\">\n",
       "  <thead>\n",
       "    <tr style=\"text-align: right;\">\n",
       "      <th></th>\n",
       "      <th>animal_id</th>\n",
       "      <th>name</th>\n",
       "      <th>monthyear</th>\n",
       "      <th>outcome_type</th>\n",
       "      <th>outcome_subtype</th>\n",
       "      <th>animal_type</th>\n",
       "      <th>sex_upon_outcome</th>\n",
       "      <th>age_upon_outcome</th>\n",
       "      <th>breed</th>\n",
       "      <th>color</th>\n",
       "      <th>date_o</th>\n",
       "      <th>dob</th>\n",
       "    </tr>\n",
       "  </thead>\n",
       "  <tbody>\n",
       "    <tr>\n",
       "      <th>0</th>\n",
       "      <td>A805157</td>\n",
       "      <td>NaN</td>\n",
       "      <td>09/26/2019 07:12:00 PM</td>\n",
       "      <td>Transfer</td>\n",
       "      <td>Partner</td>\n",
       "      <td>Bird</td>\n",
       "      <td>Unknown</td>\n",
       "      <td>NaN</td>\n",
       "      <td>Chicken</td>\n",
       "      <td>Red</td>\n",
       "      <td>2019-09-26</td>\n",
       "      <td>2018-09-23</td>\n",
       "    </tr>\n",
       "    <tr>\n",
       "      <th>1</th>\n",
       "      <td>A805124</td>\n",
       "      <td>NaN</td>\n",
       "      <td>09/26/2019 07:12:00 PM</td>\n",
       "      <td>Transfer</td>\n",
       "      <td>Partner</td>\n",
       "      <td>Bird</td>\n",
       "      <td>Intact Male</td>\n",
       "      <td>NaN</td>\n",
       "      <td>Orpington</td>\n",
       "      <td>Cream</td>\n",
       "      <td>2019-09-26</td>\n",
       "      <td>2018-09-22</td>\n",
       "    </tr>\n",
       "    <tr>\n",
       "      <th>2</th>\n",
       "      <td>A805126</td>\n",
       "      <td>*Mambo</td>\n",
       "      <td>09/26/2019 07:11:00 PM</td>\n",
       "      <td>NaN</td>\n",
       "      <td>NaN</td>\n",
       "      <td>Dog</td>\n",
       "      <td>Intact Male</td>\n",
       "      <td>NaN</td>\n",
       "      <td>German Shepherd Mix</td>\n",
       "      <td>Tan/Black</td>\n",
       "      <td>2019-09-26</td>\n",
       "      <td>2019-08-10</td>\n",
       "    </tr>\n",
       "    <tr>\n",
       "      <th>3</th>\n",
       "      <td>A801848</td>\n",
       "      <td>*Kit</td>\n",
       "      <td>09/26/2019 07:07:00 PM</td>\n",
       "      <td>Adoption</td>\n",
       "      <td>NaN</td>\n",
       "      <td>Cat</td>\n",
       "      <td>Spayed Female</td>\n",
       "      <td>2 months</td>\n",
       "      <td>Domestic Shorthair</td>\n",
       "      <td>Orange Tabby</td>\n",
       "      <td>2019-09-26</td>\n",
       "      <td>2019-07-10</td>\n",
       "    </tr>\n",
       "    <tr>\n",
       "      <th>4</th>\n",
       "      <td>A805251</td>\n",
       "      <td>Cash</td>\n",
       "      <td>09/26/2019 06:50:00 PM</td>\n",
       "      <td>Return to Owner</td>\n",
       "      <td>NaN</td>\n",
       "      <td>Dog</td>\n",
       "      <td>Intact Male</td>\n",
       "      <td>1 year</td>\n",
       "      <td>Australian Shepherd</td>\n",
       "      <td>Blue Merle/White</td>\n",
       "      <td>2019-09-26</td>\n",
       "      <td>2018-09-24</td>\n",
       "    </tr>\n",
       "    <tr>\n",
       "      <th>...</th>\n",
       "      <td>...</td>\n",
       "      <td>...</td>\n",
       "      <td>...</td>\n",
       "      <td>...</td>\n",
       "      <td>...</td>\n",
       "      <td>...</td>\n",
       "      <td>...</td>\n",
       "      <td>...</td>\n",
       "      <td>...</td>\n",
       "      <td>...</td>\n",
       "      <td>...</td>\n",
       "      <td>...</td>\n",
       "    </tr>\n",
       "    <tr>\n",
       "      <th>108514</th>\n",
       "      <td>A664223</td>\n",
       "      <td>Moby</td>\n",
       "      <td>10/01/2013 11:03:00 AM</td>\n",
       "      <td>Return to Owner</td>\n",
       "      <td>NaN</td>\n",
       "      <td>Dog</td>\n",
       "      <td>Neutered Male</td>\n",
       "      <td>4 years</td>\n",
       "      <td>Bulldog Mix</td>\n",
       "      <td>White</td>\n",
       "      <td>2013-10-01</td>\n",
       "      <td>2009-09-30</td>\n",
       "    </tr>\n",
       "    <tr>\n",
       "      <th>108515</th>\n",
       "      <td>A664236</td>\n",
       "      <td>NaN</td>\n",
       "      <td>10/01/2013 10:44:00 AM</td>\n",
       "      <td>Transfer</td>\n",
       "      <td>Partner</td>\n",
       "      <td>Cat</td>\n",
       "      <td>Unknown</td>\n",
       "      <td>1 week</td>\n",
       "      <td>Domestic Shorthair Mix</td>\n",
       "      <td>Orange/White</td>\n",
       "      <td>2013-10-01</td>\n",
       "      <td>2013-09-24</td>\n",
       "    </tr>\n",
       "    <tr>\n",
       "      <th>108516</th>\n",
       "      <td>A664237</td>\n",
       "      <td>NaN</td>\n",
       "      <td>10/01/2013 10:44:00 AM</td>\n",
       "      <td>Transfer</td>\n",
       "      <td>Partner</td>\n",
       "      <td>Cat</td>\n",
       "      <td>Unknown</td>\n",
       "      <td>1 week</td>\n",
       "      <td>Domestic Shorthair Mix</td>\n",
       "      <td>Orange/White</td>\n",
       "      <td>2013-10-01</td>\n",
       "      <td>2013-09-24</td>\n",
       "    </tr>\n",
       "    <tr>\n",
       "      <th>108517</th>\n",
       "      <td>A664235</td>\n",
       "      <td>NaN</td>\n",
       "      <td>10/01/2013 10:39:00 AM</td>\n",
       "      <td>Transfer</td>\n",
       "      <td>Partner</td>\n",
       "      <td>Cat</td>\n",
       "      <td>Unknown</td>\n",
       "      <td>1 week</td>\n",
       "      <td>Domestic Shorthair Mix</td>\n",
       "      <td>Orange/White</td>\n",
       "      <td>2013-10-01</td>\n",
       "      <td>2013-09-24</td>\n",
       "    </tr>\n",
       "    <tr>\n",
       "      <th>108518</th>\n",
       "      <td>A659834</td>\n",
       "      <td>*Dudley</td>\n",
       "      <td>10/01/2013 09:31:00 AM</td>\n",
       "      <td>Adoption</td>\n",
       "      <td>Foster</td>\n",
       "      <td>Dog</td>\n",
       "      <td>Neutered Male</td>\n",
       "      <td>2 months</td>\n",
       "      <td>Labrador Retriever Mix</td>\n",
       "      <td>Black</td>\n",
       "      <td>2013-10-01</td>\n",
       "      <td>2013-07-23</td>\n",
       "    </tr>\n",
       "  </tbody>\n",
       "</table>\n",
       "<p>108519 rows × 12 columns</p>\n",
       "</div>"
      ],
      "text/plain": [
       "       animal_id     name               monthyear     outcome_type  \\\n",
       "0        A805157      NaN  09/26/2019 07:12:00 PM         Transfer   \n",
       "1        A805124      NaN  09/26/2019 07:12:00 PM         Transfer   \n",
       "2        A805126   *Mambo  09/26/2019 07:11:00 PM              NaN   \n",
       "3        A801848     *Kit  09/26/2019 07:07:00 PM         Adoption   \n",
       "4        A805251     Cash  09/26/2019 06:50:00 PM  Return to Owner   \n",
       "...          ...      ...                     ...              ...   \n",
       "108514   A664223     Moby  10/01/2013 11:03:00 AM  Return to Owner   \n",
       "108515   A664236      NaN  10/01/2013 10:44:00 AM         Transfer   \n",
       "108516   A664237      NaN  10/01/2013 10:44:00 AM         Transfer   \n",
       "108517   A664235      NaN  10/01/2013 10:39:00 AM         Transfer   \n",
       "108518   A659834  *Dudley  10/01/2013 09:31:00 AM         Adoption   \n",
       "\n",
       "       outcome_subtype animal_type sex_upon_outcome age_upon_outcome  \\\n",
       "0              Partner        Bird          Unknown              NaN   \n",
       "1              Partner        Bird      Intact Male              NaN   \n",
       "2                  NaN         Dog      Intact Male              NaN   \n",
       "3                  NaN         Cat    Spayed Female         2 months   \n",
       "4                  NaN         Dog      Intact Male           1 year   \n",
       "...                ...         ...              ...              ...   \n",
       "108514             NaN         Dog    Neutered Male          4 years   \n",
       "108515         Partner         Cat          Unknown           1 week   \n",
       "108516         Partner         Cat          Unknown           1 week   \n",
       "108517         Partner         Cat          Unknown           1 week   \n",
       "108518          Foster         Dog    Neutered Male         2 months   \n",
       "\n",
       "                         breed             color     date_o        dob  \n",
       "0                      Chicken               Red 2019-09-26 2018-09-23  \n",
       "1                    Orpington             Cream 2019-09-26 2018-09-22  \n",
       "2          German Shepherd Mix         Tan/Black 2019-09-26 2019-08-10  \n",
       "3           Domestic Shorthair      Orange Tabby 2019-09-26 2019-07-10  \n",
       "4          Australian Shepherd  Blue Merle/White 2019-09-26 2018-09-24  \n",
       "...                        ...               ...        ...        ...  \n",
       "108514             Bulldog Mix             White 2013-10-01 2009-09-30  \n",
       "108515  Domestic Shorthair Mix      Orange/White 2013-10-01 2013-09-24  \n",
       "108516  Domestic Shorthair Mix      Orange/White 2013-10-01 2013-09-24  \n",
       "108517  Domestic Shorthair Mix      Orange/White 2013-10-01 2013-09-24  \n",
       "108518  Labrador Retriever Mix             Black 2013-10-01 2013-07-23  \n",
       "\n",
       "[108519 rows x 12 columns]"
      ]
     },
     "execution_count": 31,
     "metadata": {},
     "output_type": "execute_result"
    }
   ],
   "source": [
    "outcomes = outcomes.drop(columns=['datetime', 'date_of_birth'] )\n",
    "outcomes"
   ]
  },
  {
   "cell_type": "markdown",
   "metadata": {
    "slideshow": {
     "slide_type": "slide"
    }
   },
   "source": [
    "### Make new variable of age and years_old"
   ]
  },
  {
   "cell_type": "code",
   "execution_count": 32,
   "metadata": {},
   "outputs": [],
   "source": [
    "outcomes['age'] = outcomes.date_o - outcomes.dob"
   ]
  },
  {
   "cell_type": "code",
   "execution_count": 33,
   "metadata": {},
   "outputs": [
    {
     "data": {
      "text/html": [
       "<div>\n",
       "<style scoped>\n",
       "    .dataframe tbody tr th:only-of-type {\n",
       "        vertical-align: middle;\n",
       "    }\n",
       "\n",
       "    .dataframe tbody tr th {\n",
       "        vertical-align: top;\n",
       "    }\n",
       "\n",
       "    .dataframe thead th {\n",
       "        text-align: right;\n",
       "    }\n",
       "</style>\n",
       "<table border=\"1\" class=\"dataframe\">\n",
       "  <thead>\n",
       "    <tr style=\"text-align: right;\">\n",
       "      <th></th>\n",
       "      <th>animal_id</th>\n",
       "      <th>name</th>\n",
       "      <th>monthyear</th>\n",
       "      <th>outcome_type</th>\n",
       "      <th>outcome_subtype</th>\n",
       "      <th>animal_type</th>\n",
       "      <th>sex_upon_outcome</th>\n",
       "      <th>age_upon_outcome</th>\n",
       "      <th>breed</th>\n",
       "      <th>color</th>\n",
       "      <th>date_o</th>\n",
       "      <th>dob</th>\n",
       "      <th>age</th>\n",
       "      <th>years_old</th>\n",
       "    </tr>\n",
       "  </thead>\n",
       "  <tbody>\n",
       "    <tr>\n",
       "      <th>0</th>\n",
       "      <td>A805157</td>\n",
       "      <td>NaN</td>\n",
       "      <td>09/26/2019 07:12:00 PM</td>\n",
       "      <td>Transfer</td>\n",
       "      <td>Partner</td>\n",
       "      <td>Bird</td>\n",
       "      <td>Unknown</td>\n",
       "      <td>NaN</td>\n",
       "      <td>Chicken</td>\n",
       "      <td>Red</td>\n",
       "      <td>2019-09-26</td>\n",
       "      <td>2018-09-23</td>\n",
       "      <td>368 days</td>\n",
       "      <td>1.008219</td>\n",
       "    </tr>\n",
       "    <tr>\n",
       "      <th>1</th>\n",
       "      <td>A805124</td>\n",
       "      <td>NaN</td>\n",
       "      <td>09/26/2019 07:12:00 PM</td>\n",
       "      <td>Transfer</td>\n",
       "      <td>Partner</td>\n",
       "      <td>Bird</td>\n",
       "      <td>Intact Male</td>\n",
       "      <td>NaN</td>\n",
       "      <td>Orpington</td>\n",
       "      <td>Cream</td>\n",
       "      <td>2019-09-26</td>\n",
       "      <td>2018-09-22</td>\n",
       "      <td>369 days</td>\n",
       "      <td>1.010959</td>\n",
       "    </tr>\n",
       "    <tr>\n",
       "      <th>2</th>\n",
       "      <td>A805126</td>\n",
       "      <td>*Mambo</td>\n",
       "      <td>09/26/2019 07:11:00 PM</td>\n",
       "      <td>NaN</td>\n",
       "      <td>NaN</td>\n",
       "      <td>Dog</td>\n",
       "      <td>Intact Male</td>\n",
       "      <td>NaN</td>\n",
       "      <td>German Shepherd Mix</td>\n",
       "      <td>Tan/Black</td>\n",
       "      <td>2019-09-26</td>\n",
       "      <td>2019-08-10</td>\n",
       "      <td>47 days</td>\n",
       "      <td>0.128767</td>\n",
       "    </tr>\n",
       "    <tr>\n",
       "      <th>3</th>\n",
       "      <td>A801848</td>\n",
       "      <td>*Kit</td>\n",
       "      <td>09/26/2019 07:07:00 PM</td>\n",
       "      <td>Adoption</td>\n",
       "      <td>NaN</td>\n",
       "      <td>Cat</td>\n",
       "      <td>Spayed Female</td>\n",
       "      <td>2 months</td>\n",
       "      <td>Domestic Shorthair</td>\n",
       "      <td>Orange Tabby</td>\n",
       "      <td>2019-09-26</td>\n",
       "      <td>2019-07-10</td>\n",
       "      <td>78 days</td>\n",
       "      <td>0.213699</td>\n",
       "    </tr>\n",
       "    <tr>\n",
       "      <th>4</th>\n",
       "      <td>A805251</td>\n",
       "      <td>Cash</td>\n",
       "      <td>09/26/2019 06:50:00 PM</td>\n",
       "      <td>Return to Owner</td>\n",
       "      <td>NaN</td>\n",
       "      <td>Dog</td>\n",
       "      <td>Intact Male</td>\n",
       "      <td>1 year</td>\n",
       "      <td>Australian Shepherd</td>\n",
       "      <td>Blue Merle/White</td>\n",
       "      <td>2019-09-26</td>\n",
       "      <td>2018-09-24</td>\n",
       "      <td>367 days</td>\n",
       "      <td>1.005479</td>\n",
       "    </tr>\n",
       "    <tr>\n",
       "      <th>...</th>\n",
       "      <td>...</td>\n",
       "      <td>...</td>\n",
       "      <td>...</td>\n",
       "      <td>...</td>\n",
       "      <td>...</td>\n",
       "      <td>...</td>\n",
       "      <td>...</td>\n",
       "      <td>...</td>\n",
       "      <td>...</td>\n",
       "      <td>...</td>\n",
       "      <td>...</td>\n",
       "      <td>...</td>\n",
       "      <td>...</td>\n",
       "      <td>...</td>\n",
       "    </tr>\n",
       "    <tr>\n",
       "      <th>108514</th>\n",
       "      <td>A664223</td>\n",
       "      <td>Moby</td>\n",
       "      <td>10/01/2013 11:03:00 AM</td>\n",
       "      <td>Return to Owner</td>\n",
       "      <td>NaN</td>\n",
       "      <td>Dog</td>\n",
       "      <td>Neutered Male</td>\n",
       "      <td>4 years</td>\n",
       "      <td>Bulldog Mix</td>\n",
       "      <td>White</td>\n",
       "      <td>2013-10-01</td>\n",
       "      <td>2009-09-30</td>\n",
       "      <td>1462 days</td>\n",
       "      <td>4.005479</td>\n",
       "    </tr>\n",
       "    <tr>\n",
       "      <th>108515</th>\n",
       "      <td>A664236</td>\n",
       "      <td>NaN</td>\n",
       "      <td>10/01/2013 10:44:00 AM</td>\n",
       "      <td>Transfer</td>\n",
       "      <td>Partner</td>\n",
       "      <td>Cat</td>\n",
       "      <td>Unknown</td>\n",
       "      <td>1 week</td>\n",
       "      <td>Domestic Shorthair Mix</td>\n",
       "      <td>Orange/White</td>\n",
       "      <td>2013-10-01</td>\n",
       "      <td>2013-09-24</td>\n",
       "      <td>7 days</td>\n",
       "      <td>0.019178</td>\n",
       "    </tr>\n",
       "    <tr>\n",
       "      <th>108516</th>\n",
       "      <td>A664237</td>\n",
       "      <td>NaN</td>\n",
       "      <td>10/01/2013 10:44:00 AM</td>\n",
       "      <td>Transfer</td>\n",
       "      <td>Partner</td>\n",
       "      <td>Cat</td>\n",
       "      <td>Unknown</td>\n",
       "      <td>1 week</td>\n",
       "      <td>Domestic Shorthair Mix</td>\n",
       "      <td>Orange/White</td>\n",
       "      <td>2013-10-01</td>\n",
       "      <td>2013-09-24</td>\n",
       "      <td>7 days</td>\n",
       "      <td>0.019178</td>\n",
       "    </tr>\n",
       "    <tr>\n",
       "      <th>108517</th>\n",
       "      <td>A664235</td>\n",
       "      <td>NaN</td>\n",
       "      <td>10/01/2013 10:39:00 AM</td>\n",
       "      <td>Transfer</td>\n",
       "      <td>Partner</td>\n",
       "      <td>Cat</td>\n",
       "      <td>Unknown</td>\n",
       "      <td>1 week</td>\n",
       "      <td>Domestic Shorthair Mix</td>\n",
       "      <td>Orange/White</td>\n",
       "      <td>2013-10-01</td>\n",
       "      <td>2013-09-24</td>\n",
       "      <td>7 days</td>\n",
       "      <td>0.019178</td>\n",
       "    </tr>\n",
       "    <tr>\n",
       "      <th>108518</th>\n",
       "      <td>A659834</td>\n",
       "      <td>*Dudley</td>\n",
       "      <td>10/01/2013 09:31:00 AM</td>\n",
       "      <td>Adoption</td>\n",
       "      <td>Foster</td>\n",
       "      <td>Dog</td>\n",
       "      <td>Neutered Male</td>\n",
       "      <td>2 months</td>\n",
       "      <td>Labrador Retriever Mix</td>\n",
       "      <td>Black</td>\n",
       "      <td>2013-10-01</td>\n",
       "      <td>2013-07-23</td>\n",
       "      <td>70 days</td>\n",
       "      <td>0.191781</td>\n",
       "    </tr>\n",
       "  </tbody>\n",
       "</table>\n",
       "<p>108519 rows × 14 columns</p>\n",
       "</div>"
      ],
      "text/plain": [
       "       animal_id     name               monthyear     outcome_type  \\\n",
       "0        A805157      NaN  09/26/2019 07:12:00 PM         Transfer   \n",
       "1        A805124      NaN  09/26/2019 07:12:00 PM         Transfer   \n",
       "2        A805126   *Mambo  09/26/2019 07:11:00 PM              NaN   \n",
       "3        A801848     *Kit  09/26/2019 07:07:00 PM         Adoption   \n",
       "4        A805251     Cash  09/26/2019 06:50:00 PM  Return to Owner   \n",
       "...          ...      ...                     ...              ...   \n",
       "108514   A664223     Moby  10/01/2013 11:03:00 AM  Return to Owner   \n",
       "108515   A664236      NaN  10/01/2013 10:44:00 AM         Transfer   \n",
       "108516   A664237      NaN  10/01/2013 10:44:00 AM         Transfer   \n",
       "108517   A664235      NaN  10/01/2013 10:39:00 AM         Transfer   \n",
       "108518   A659834  *Dudley  10/01/2013 09:31:00 AM         Adoption   \n",
       "\n",
       "       outcome_subtype animal_type sex_upon_outcome age_upon_outcome  \\\n",
       "0              Partner        Bird          Unknown              NaN   \n",
       "1              Partner        Bird      Intact Male              NaN   \n",
       "2                  NaN         Dog      Intact Male              NaN   \n",
       "3                  NaN         Cat    Spayed Female         2 months   \n",
       "4                  NaN         Dog      Intact Male           1 year   \n",
       "...                ...         ...              ...              ...   \n",
       "108514             NaN         Dog    Neutered Male          4 years   \n",
       "108515         Partner         Cat          Unknown           1 week   \n",
       "108516         Partner         Cat          Unknown           1 week   \n",
       "108517         Partner         Cat          Unknown           1 week   \n",
       "108518          Foster         Dog    Neutered Male         2 months   \n",
       "\n",
       "                         breed             color     date_o        dob  \\\n",
       "0                      Chicken               Red 2019-09-26 2018-09-23   \n",
       "1                    Orpington             Cream 2019-09-26 2018-09-22   \n",
       "2          German Shepherd Mix         Tan/Black 2019-09-26 2019-08-10   \n",
       "3           Domestic Shorthair      Orange Tabby 2019-09-26 2019-07-10   \n",
       "4          Australian Shepherd  Blue Merle/White 2019-09-26 2018-09-24   \n",
       "...                        ...               ...        ...        ...   \n",
       "108514             Bulldog Mix             White 2013-10-01 2009-09-30   \n",
       "108515  Domestic Shorthair Mix      Orange/White 2013-10-01 2013-09-24   \n",
       "108516  Domestic Shorthair Mix      Orange/White 2013-10-01 2013-09-24   \n",
       "108517  Domestic Shorthair Mix      Orange/White 2013-10-01 2013-09-24   \n",
       "108518  Labrador Retriever Mix             Black 2013-10-01 2013-07-23   \n",
       "\n",
       "             age  years_old  \n",
       "0       368 days   1.008219  \n",
       "1       369 days   1.010959  \n",
       "2        47 days   0.128767  \n",
       "3        78 days   0.213699  \n",
       "4       367 days   1.005479  \n",
       "...          ...        ...  \n",
       "108514 1462 days   4.005479  \n",
       "108515    7 days   0.019178  \n",
       "108516    7 days   0.019178  \n",
       "108517    7 days   0.019178  \n",
       "108518   70 days   0.191781  \n",
       "\n",
       "[108519 rows x 14 columns]"
      ]
     },
     "execution_count": 33,
     "metadata": {},
     "output_type": "execute_result"
    }
   ],
   "source": [
    "outcomes['years_old'] = outcomes.age.apply(lambda x: x.days/365)\n",
    "outcomes"
   ]
  },
  {
   "cell_type": "code",
   "execution_count": 34,
   "metadata": {},
   "outputs": [
    {
     "data": {
      "text/plain": [
       "animal_id                    object\n",
       "name                         object\n",
       "monthyear                    object\n",
       "outcome_type                 object\n",
       "outcome_subtype              object\n",
       "animal_type                  object\n",
       "sex_upon_outcome             object\n",
       "age_upon_outcome             object\n",
       "breed                        object\n",
       "color                        object\n",
       "date_o               datetime64[ns]\n",
       "dob                  datetime64[ns]\n",
       "age                 timedelta64[ns]\n",
       "years_old                   float64\n",
       "dtype: object"
      ]
     },
     "execution_count": 34,
     "metadata": {},
     "output_type": "execute_result"
    }
   ],
   "source": [
    "outcomes.dtypes"
   ]
  },
  {
   "cell_type": "markdown",
   "metadata": {
    "slideshow": {
     "slide_type": "slide"
    }
   },
   "source": [
    "### NOW try `mean`!"
   ]
  },
  {
   "cell_type": "code",
   "execution_count": 35,
   "metadata": {},
   "outputs": [
    {
     "data": {
      "text/plain": [
       "2.2075012430765364"
      ]
     },
     "execution_count": 35,
     "metadata": {},
     "output_type": "execute_result"
    }
   ],
   "source": [
    "outcomes.years_old.mean()"
   ]
  },
  {
   "cell_type": "markdown",
   "metadata": {
    "slideshow": {
     "slide_type": "slide"
    }
   },
   "source": [
    "#### Great!  What does this mean?  What question about the data have we answered?"
   ]
  },
  {
   "cell_type": "markdown",
   "metadata": {
    "slideshow": {
     "slide_type": "slide"
    }
   },
   "source": [
    "### Filtering and sub-setting\n",
    "\n",
    "What if we want to see the mean age of each type of animal in the shelter?  How would we do that?\n",
    "\n",
    "\n",
    "We can use a [`groupby`](https://pandas.pydata.org/pandas-docs/stable/reference/api/pandas.DataFrame.groupby.html) function to help us aggregate and filter."
   ]
  },
  {
   "cell_type": "code",
   "execution_count": 36,
   "metadata": {},
   "outputs": [
    {
     "data": {
      "text/html": [
       "<div>\n",
       "<style scoped>\n",
       "    .dataframe tbody tr th:only-of-type {\n",
       "        vertical-align: middle;\n",
       "    }\n",
       "\n",
       "    .dataframe tbody tr th {\n",
       "        vertical-align: top;\n",
       "    }\n",
       "\n",
       "    .dataframe thead th {\n",
       "        text-align: right;\n",
       "    }\n",
       "</style>\n",
       "<table border=\"1\" class=\"dataframe\">\n",
       "  <thead>\n",
       "    <tr style=\"text-align: right;\">\n",
       "      <th></th>\n",
       "      <th>years_old</th>\n",
       "    </tr>\n",
       "    <tr>\n",
       "      <th>animal_type</th>\n",
       "      <th></th>\n",
       "    </tr>\n",
       "  </thead>\n",
       "  <tbody>\n",
       "    <tr>\n",
       "      <th>Bird</th>\n",
       "      <td>1.404894</td>\n",
       "    </tr>\n",
       "    <tr>\n",
       "      <th>Cat</th>\n",
       "      <td>1.458022</td>\n",
       "    </tr>\n",
       "    <tr>\n",
       "      <th>Dog</th>\n",
       "      <td>2.797544</td>\n",
       "    </tr>\n",
       "    <tr>\n",
       "      <th>Livestock</th>\n",
       "      <td>1.200967</td>\n",
       "    </tr>\n",
       "    <tr>\n",
       "      <th>Other</th>\n",
       "      <td>1.272168</td>\n",
       "    </tr>\n",
       "  </tbody>\n",
       "</table>\n",
       "</div>"
      ],
      "text/plain": [
       "             years_old\n",
       "animal_type           \n",
       "Bird          1.404894\n",
       "Cat           1.458022\n",
       "Dog           2.797544\n",
       "Livestock     1.200967\n",
       "Other         1.272168"
      ]
     },
     "execution_count": 36,
     "metadata": {},
     "output_type": "execute_result"
    }
   ],
   "source": [
    "outcomes[['animal_type', 'years_old']].groupby(['animal_type']).mean()"
   ]
  },
  {
   "cell_type": "markdown",
   "metadata": {},
   "source": [
    "### Your turn! \n",
    "\n",
    "With your group, convert `datetime` to a datetime object."
   ]
  },
  {
   "cell_type": "code",
   "execution_count": 37,
   "metadata": {},
   "outputs": [],
   "source": [
    "# your code here"
   ]
  },
  {
   "cell_type": "code",
   "execution_count": 58,
   "metadata": {},
   "outputs": [
    {
     "name": "stdout",
     "output_type": "stream",
     "text": [
      "<class 'pandas.core.frame.DataFrame'>\n",
      "RangeIndex: 108919 entries, 0 to 108918\n",
      "Data columns (total 13 columns):\n",
      " #   Column            Non-Null Count   Dtype         \n",
      "---  ------            --------------   -----         \n",
      " 0   animal_id         108919 non-null  object        \n",
      " 1   name              74417 non-null   object        \n",
      " 2   datetime          108919 non-null  object        \n",
      " 3   monthyear         108919 non-null  object        \n",
      " 4   found_location    108919 non-null  object        \n",
      " 5   intake_type       108919 non-null  object        \n",
      " 6   intake_condition  108919 non-null  object        \n",
      " 7   animal_type       108919 non-null  object        \n",
      " 8   sex_upon_intake   108918 non-null  object        \n",
      " 9   age_upon_intake   108919 non-null  object        \n",
      " 10  breed             108919 non-null  object        \n",
      " 11  color             108919 non-null  object        \n",
      " 12  date_intake       108919 non-null  datetime64[ns]\n",
      "dtypes: datetime64[ns](1), object(12)\n",
      "memory usage: 10.8+ MB\n"
     ]
    }
   ],
   "source": [
    "# SOLUTION\n",
    "intakes['date_intake'] = intakes.datetime.apply(lambda x: x[:10])\n",
    "# convert date formats\n",
    "intakes['date_intake'] =  pd.to_datetime(intakes['date_intake'], format='%m/%d/%Y')\n",
    "intakes.info()"
   ]
  },
  {
   "cell_type": "markdown",
   "metadata": {},
   "source": [
    "## Dealing with Missing values\n",
    "\n",
    "We saw earlier that we have some missing values in several columns.  Now we need to decide what to do about them.  One option is to __fill__ in the missing value and another option is to __drop__ that missing value.\n",
    "\n",
    "### Activity\n",
    "\n",
    "In your group, discuss the pros and cons of filling the missing values vs dropping the missing values for the following columns of our dataframe.\n",
    "\n",
    "- `name`\n",
    "- `outcome_type`\n",
    "- `outcome_subtype`\n",
    "- `sex_upon_outcome`\n",
    "- `age_upon_outcome`\n",
    "\n",
    "For columns in which you feel like it is important to fill the missing data what do you think we should fill these values with?"
   ]
  },
  {
   "cell_type": "markdown",
   "metadata": {},
   "source": [
    "#### Dropping rows with missing data\n",
    "Because there are very few (only 3 of the 108,519) rows of data that are missing the `sex_upon_outcome` variable we can drop the rows where this variable is missing and we will only lose less than 1% of that data.  Let's go ahead and drop these rows. \n",
    "\n",
    "We will use the `dropna` function to execute this drop. Note:  We will need to use the `subset=` argument to drop missing values in this column only."
   ]
  },
  {
   "cell_type": "code",
   "execution_count": 40,
   "metadata": {},
   "outputs": [
    {
     "data": {
      "text/plain": [
       "(108516, 14)"
      ]
     },
     "execution_count": 40,
     "metadata": {},
     "output_type": "execute_result"
    }
   ],
   "source": [
    "outcomes = outcomes.dropna(subset=['sex_upon_outcome'])\n",
    "outcomes.shape"
   ]
  },
  {
   "cell_type": "markdown",
   "metadata": {},
   "source": [
    "#### Filling in missing data\n",
    "Now let's talk about the missing values for name.  If we dropped all these rows we would lose about 32% of our data!  That's a lot! Plus, maybe we want to examine how many of the animals in the shelter don't have names.  Then we would need this information! So instead of dropping those rows let's replace missing names with the string \"No name given\".\n",
    "\n",
    "We can use the `.fillna` function to fill in those missing values with our desired string."
   ]
  },
  {
   "cell_type": "code",
   "execution_count": 52,
   "metadata": {},
   "outputs": [
    {
     "name": "stderr",
     "output_type": "stream",
     "text": [
      "/anaconda3/lib/python3.7/site-packages/ipykernel_launcher.py:1: SettingWithCopyWarning: \n",
      "A value is trying to be set on a copy of a slice from a DataFrame.\n",
      "Try using .loc[row_indexer,col_indexer] = value instead\n",
      "\n",
      "See the caveats in the documentation: https://pandas.pydata.org/pandas-docs/stable/user_guide/indexing.html#returning-a-view-versus-a-copy\n",
      "  \"\"\"Entry point for launching an IPython kernel.\n"
     ]
    }
   ],
   "source": [
    "outcomes['name'] = outcomes.name.fillna(\"No name given\")"
   ]
  },
  {
   "cell_type": "code",
   "execution_count": 49,
   "metadata": {},
   "outputs": [
    {
     "data": {
      "text/plain": [
       "animal_id               0\n",
       "name                    0\n",
       "monthyear               0\n",
       "outcome_type            8\n",
       "outcome_subtype     59056\n",
       "animal_type             0\n",
       "sex_upon_outcome        0\n",
       "age_upon_outcome       25\n",
       "breed                   0\n",
       "color                   0\n",
       "date_o                  0\n",
       "dob                     0\n",
       "age                     0\n",
       "years_old               0\n",
       "dtype: int64"
      ]
     },
     "execution_count": 49,
     "metadata": {},
     "output_type": "execute_result"
    }
   ],
   "source": [
    "outcomes.isna().sum()"
   ]
  },
  {
   "cell_type": "markdown",
   "metadata": {},
   "source": [
    "#### Great!  We have successfully cleaned up two of columns with missing values!"
   ]
  },
  {
   "cell_type": "markdown",
   "metadata": {},
   "source": [
    "### Your turn!\n",
    "\n",
    "In your group, work on cleaning the `outcome_subtype` column and the `age_upon_outcome` column.  Be thoughtful in how you deal with these missing values.  Be able to explain why you made the decisions you did!"
   ]
  },
  {
   "cell_type": "code",
   "execution_count": null,
   "metadata": {},
   "outputs": [],
   "source": [
    "# your code here"
   ]
  },
  {
   "cell_type": "markdown",
   "metadata": {
    "slideshow": {
     "slide_type": "slide"
    }
   },
   "source": [
    "#### Now we are rolling!!\n",
    "\n",
    "![panda roll](img/panda_rolling.gif)"
   ]
  },
  {
   "cell_type": "markdown",
   "metadata": {
    "slideshow": {
     "slide_type": "slide"
    }
   },
   "source": [
    "### Further Resources\n",
    "- Learn from [Wes McKinney himself](https://www.youtube.com/watch?v=_T8LGqJtuGc#action=share) in his \"Pandas in 10 minutes video\"\n",
    "- Make the [pandas documentation](https://pandas.pydata.org/pandas-docs/stable/reference/index.html) your best friend"
   ]
  },
  {
   "cell_type": "code",
   "execution_count": null,
   "metadata": {},
   "outputs": [],
   "source": []
  }
 ],
 "metadata": {
  "kernelspec": {
   "display_name": "Python 3",
   "language": "python",
   "name": "python3"
  },
  "language_info": {
   "codemirror_mode": {
    "name": "ipython",
    "version": 3
   },
   "file_extension": ".py",
   "mimetype": "text/x-python",
   "name": "python",
   "nbconvert_exporter": "python",
   "pygments_lexer": "ipython3",
   "version": "3.7.3"
  }
 },
 "nbformat": 4,
 "nbformat_minor": 4
}
